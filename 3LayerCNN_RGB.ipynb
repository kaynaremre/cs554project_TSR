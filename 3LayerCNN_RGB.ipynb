{
 "cells": [
  {
   "cell_type": "code",
   "execution_count": 1,
   "id": "cd440325",
   "metadata": {},
   "outputs": [],
   "source": [
    "# Import Libraries\n",
    "import matplotlib.pyplot as plt\n",
    "import torch\n",
    "from torch import nn\n",
    "from torch import optim\n",
    "import torch.nn.functional as F\n",
    "from torchvision import datasets, transforms, models\n",
    "from torch.autograd import Variable\n",
    "import matplotlib.pyplot as plt\n",
    "import seaborn as sn\n",
    "import numpy as np\n"
   ]
  },
  {
   "cell_type": "code",
   "execution_count": 2,
   "id": "14af2e00",
   "metadata": {},
   "outputs": [],
   "source": [
    "#Class Labels\n",
    "labels_ = [ \n",
    "            'Speed limit (30km/h)', \n",
    "            'Speed limit (50km/h)', \n",
    "            'Speed limit (120km/h)', \n",
    "            'No passing', \n",
    "            'No passing veh over 3.5 tons', \n",
    "            'Priority road', \n",
    "            'Yield', \n",
    "            'Stop', \n",
    "            'No entry', \n",
    "            'Turn right ahead', \n",
    "            'Turn left ahead', \n",
    "            'Go straight or right', \n",
    "            'Go straight or left', \n",
    "]"
   ]
  },
  {
   "cell_type": "code",
   "execution_count": 3,
   "id": "470c2c33",
   "metadata": {},
   "outputs": [],
   "source": [
    "#Defining function for plotting confusion matrix with Seaborn library\n",
    "from sklearn.metrics import confusion_matrix\n",
    "\n",
    "def conf_matrix(pred_labels, y_test):\n",
    "    conf_mat = confusion_matrix(y_test,pred_labels)\n",
    "    fig, ax = plt.subplots(figsize=(20,15))\n",
    "    sn.heatmap(conf_mat, annot=True, fmt='d',xticklabels=labels_, yticklabels=labels_)\n",
    "    plt.ylabel('Actual') \n",
    "    plt.yticks(rotation=0) \n",
    "    plt.xlabel('Predicted')\n",
    "    plt.show()"
   ]
  },
  {
   "cell_type": "code",
   "execution_count": 4,
   "id": "3998abf4",
   "metadata": {},
   "outputs": [
    {
     "name": "stdout",
     "output_type": "stream",
     "text": [
      "Using PyTorch version: 1.11.0+cu113 CUDA: True\n"
     ]
    }
   ],
   "source": [
    "### To test whether GPU instance is present in the system of not.\n",
    "use_cuda = torch.cuda.is_available()\n",
    "print('Using PyTorch version:', torch.__version__, 'CUDA:', use_cuda)"
   ]
  },
  {
   "cell_type": "code",
   "execution_count": 5,
   "id": "113de807",
   "metadata": {},
   "outputs": [
    {
     "data": {
      "text/plain": [
       "device(type='cuda')"
      ]
     },
     "execution_count": 5,
     "metadata": {},
     "output_type": "execute_result"
    }
   ],
   "source": [
    "device = torch.device(\"cuda\" if torch.cuda.is_available() else \"cpu\")\n",
    "device"
   ]
  },
  {
   "cell_type": "code",
   "execution_count": 6,
   "id": "d363a3d5",
   "metadata": {},
   "outputs": [],
   "source": [
    "image_size = (32,32)\n",
    "\n",
    "transformations = transforms.Compose(\n",
    "        [transforms.Resize(list(image_size)),\n",
    "         transforms.ToTensor(),\n",
    "         transforms.Normalize(mean=[0.5], std=[0.5])])"
   ]
  },
  {
   "cell_type": "code",
   "execution_count": 7,
   "id": "13d42b83",
   "metadata": {},
   "outputs": [],
   "source": [
    "batch_size = 130 \n",
    "\n",
    "train_set = datasets.ImageFolder('Train', transform = transformations)\n",
    "\n",
    "# YOUR CODE HERE for the DataLoader\n",
    "train_loader = torch.utils.data.DataLoader(train_set, batch_size=batch_size, shuffle=True, num_workers=1)"
   ]
  },
  {
   "cell_type": "code",
   "execution_count": 8,
   "id": "23528377",
   "metadata": {},
   "outputs": [
    {
     "name": "stdout",
     "output_type": "stream",
     "text": [
      "X_train: torch.Size([130, 3, 32, 32]) type: torch.FloatTensor\n",
      "y_train: torch.Size([130]) type: torch.LongTensor\n"
     ]
    }
   ],
   "source": [
    "# Get input/output from data loader\n",
    "for (X_train, y_train) in train_loader:\n",
    "    print('X_train:', X_train.size(), 'type:', X_train.type())\n",
    "    print('y_train:', y_train.size(), 'type:', y_train.type())\n",
    "    break"
   ]
  },
  {
   "cell_type": "code",
   "execution_count": 9,
   "id": "41384425",
   "metadata": {},
   "outputs": [],
   "source": [
    "class Flatten(torch.nn.Module):\n",
    "    def forward(self, input):\n",
    "        return input.view(input.size(0), -1)"
   ]
  },
  {
   "cell_type": "code",
   "execution_count": 10,
   "id": "faf63ca3",
   "metadata": {},
   "outputs": [],
   "source": [
    "class CNN(nn.Module):\n",
    "    def __init__(self):\n",
    "        super(CNN, self).__init__()\n",
    "\n",
    "        # Convolutional Layers\n",
    "        self.layer1 = nn.Sequential(\n",
    "            nn.Conv2d(3, 16, kernel_size=3, stride=1, padding=1),\n",
    "            nn.BatchNorm2d(16),\n",
    "            nn.ReLU(),\n",
    "            nn.MaxPool2d(2))\n",
    "        self.layer2 = nn.Sequential(\n",
    "            nn.Conv2d(16, 32, kernel_size=3, stride=1, padding=1),\n",
    "            nn.BatchNorm2d(32),\n",
    "            nn.ReLU(),\n",
    "            nn.MaxPool2d(2))\n",
    "        self.layer3 = nn.Sequential(\n",
    "            nn.Conv2d(32, 32, kernel_size=3, stride=1, padding=1),\n",
    "            nn.BatchNorm2d(32),\n",
    "            nn.ReLU(),\n",
    "            nn.MaxPool2d(2))\n",
    "        \n",
    "        # Dropout to avoid overfitting\n",
    "        self.drop_out = nn.Dropout()\n",
    "\n",
    "        # Fully connected layers\n",
    "        self.fc1 = nn.Linear(512, 32)\n",
    "        self.fc2 = nn.Linear(32, 13)\n",
    "        \n",
    "    def forward(self, x):\n",
    "        out = self.layer1(x)\n",
    "        out = self.layer2(out)\n",
    "        out = self.layer3(out)\n",
    "\n",
    "        # Flatten\n",
    "        out = out.view(out.size(0), -1)\n",
    "\n",
    "        out = self.drop_out(out)\n",
    "        out = self.fc1(out)\n",
    "        out = self.fc2(out)\n",
    "        return out"
   ]
  },
  {
   "cell_type": "code",
   "execution_count": 11,
   "id": "0571d274",
   "metadata": {},
   "outputs": [
    {
     "name": "stdout",
     "output_type": "stream",
     "text": [
      "CNN(\n",
      "  (layer1): Sequential(\n",
      "    (0): Conv2d(3, 16, kernel_size=(3, 3), stride=(1, 1), padding=(1, 1))\n",
      "    (1): BatchNorm2d(16, eps=1e-05, momentum=0.1, affine=True, track_running_stats=True)\n",
      "    (2): ReLU()\n",
      "    (3): MaxPool2d(kernel_size=2, stride=2, padding=0, dilation=1, ceil_mode=False)\n",
      "  )\n",
      "  (layer2): Sequential(\n",
      "    (0): Conv2d(16, 32, kernel_size=(3, 3), stride=(1, 1), padding=(1, 1))\n",
      "    (1): BatchNorm2d(32, eps=1e-05, momentum=0.1, affine=True, track_running_stats=True)\n",
      "    (2): ReLU()\n",
      "    (3): MaxPool2d(kernel_size=2, stride=2, padding=0, dilation=1, ceil_mode=False)\n",
      "  )\n",
      "  (layer3): Sequential(\n",
      "    (0): Conv2d(32, 32, kernel_size=(3, 3), stride=(1, 1), padding=(1, 1))\n",
      "    (1): BatchNorm2d(32, eps=1e-05, momentum=0.1, affine=True, track_running_stats=True)\n",
      "    (2): ReLU()\n",
      "    (3): MaxPool2d(kernel_size=2, stride=2, padding=0, dilation=1, ceil_mode=False)\n",
      "  )\n",
      "  (drop_out): Dropout(p=0.5, inplace=False)\n",
      "  (fc1): Linear(in_features=512, out_features=32, bias=True)\n",
      "  (fc2): Linear(in_features=32, out_features=13, bias=True)\n",
      ")\n"
     ]
    }
   ],
   "source": [
    "# Declaring the loss function and optimizer\n",
    "\n",
    "model = CNN()\n",
    "model = model.to(device)\n",
    "print(model)\n",
    "\n",
    "#criterion = # YOUR CODE HERE : Explore and declare loss function\n",
    "# loss_fn = torch.nn.BCELoss()\n",
    "loss_fn = torch.nn.CrossEntropyLoss()\n",
    "\n",
    "#optimizer = # YOUR CODE HERE : Explore on optimizer and define with the learning rate\n",
    "# optimizer = optim.SGD(model.parameters(), lr=0.01, momentum=0.5)\n",
    "learning_rate = 0.001\n",
    "optimizer = torch.optim.Adam(model.parameters(), lr=learning_rate)"
   ]
  },
  {
   "cell_type": "code",
   "execution_count": 12,
   "id": "a0d392d4",
   "metadata": {},
   "outputs": [],
   "source": [
    "# YOUR CODE HERE. This will take time\n",
    "\n",
    "# Record loss and accuracy of the train dataset\n",
    "def train(epoch, log_interval=100):\n",
    "    for batch_idx, (data, target) in enumerate(train_loader):\n",
    "        data = Variable(data.float())\n",
    "        target = Variable(target)\n",
    "        data, target = data.to(device), target.to(device)\n",
    "        optimizer.zero_grad()\n",
    "        output = model(data)\n",
    "        loss = loss_fn(output, target)\n",
    "        loss.backward()\n",
    "        optimizer.step()\n",
    "\n",
    "        # Track the accuracy\n",
    "        total = target.size(0)\n",
    "        _, predicted = torch.max(output.data, 1)\n",
    "        correct = (predicted == target).sum().item()        \n",
    "\n",
    "        if batch_idx % log_interval == 0:\n",
    "            print('Train Epoch: {} [{}/{} ({:.0f}%)]\\tLoss: {:.6f}\\tAccuracy: {:.2f}%'.format(\n",
    "                epoch, batch_idx * len(data), len(train_loader.dataset),\n",
    "                100. * batch_idx / len(train_loader), loss.item(), (correct / total) * 100))"
   ]
  },
  {
   "cell_type": "code",
   "execution_count": 13,
   "id": "374d71cc",
   "metadata": {},
   "outputs": [
    {
     "name": "stdout",
     "output_type": "stream",
     "text": [
      "Train Epoch: 1 [0/17219 (0%)]\tLoss: 2.787234\tAccuracy: 3.08%\n",
      "Train Epoch: 1 [13000/17219 (75%)]\tLoss: 0.577680\tAccuracy: 77.69%\n",
      "Train Epoch: 2 [0/17219 (0%)]\tLoss: 0.361356\tAccuracy: 88.46%\n",
      "Train Epoch: 2 [13000/17219 (75%)]\tLoss: 0.277716\tAccuracy: 90.00%\n",
      "Train Epoch: 3 [0/17219 (0%)]\tLoss: 0.177941\tAccuracy: 95.38%\n",
      "Train Epoch: 3 [13000/17219 (75%)]\tLoss: 0.191156\tAccuracy: 94.62%\n",
      "Train Epoch: 4 [0/17219 (0%)]\tLoss: 0.120627\tAccuracy: 96.92%\n",
      "Train Epoch: 4 [13000/17219 (75%)]\tLoss: 0.057224\tAccuracy: 97.69%\n",
      "Train Epoch: 5 [0/17219 (0%)]\tLoss: 0.101888\tAccuracy: 96.92%\n",
      "Train Epoch: 5 [13000/17219 (75%)]\tLoss: 0.040709\tAccuracy: 99.23%\n",
      "Train Epoch: 6 [0/17219 (0%)]\tLoss: 0.033211\tAccuracy: 98.46%\n",
      "Train Epoch: 6 [13000/17219 (75%)]\tLoss: 0.055855\tAccuracy: 97.69%\n",
      "Wall time: 59 s\n"
     ]
    }
   ],
   "source": [
    "%%time\n",
    "epochs = 6\n",
    "lossv, accv = [], []\n",
    "for epoch in range(1, epochs+1):\n",
    "    train(epoch)\n",
    "    # test(lossv, accv)"
   ]
  },
  {
   "cell_type": "code",
   "execution_count": 14,
   "id": "3dfd3ae7",
   "metadata": {},
   "outputs": [],
   "source": [
    "torch.save(model.state_dict(), 'conv_net_model.ckpt')"
   ]
  },
  {
   "cell_type": "code",
   "execution_count": 15,
   "id": "c99d5eab",
   "metadata": {},
   "outputs": [
    {
     "data": {
      "text/plain": [
       "CNN(\n",
       "  (layer1): Sequential(\n",
       "    (0): Conv2d(3, 16, kernel_size=(3, 3), stride=(1, 1), padding=(1, 1))\n",
       "    (1): BatchNorm2d(16, eps=1e-05, momentum=0.1, affine=True, track_running_stats=True)\n",
       "    (2): ReLU()\n",
       "    (3): MaxPool2d(kernel_size=2, stride=2, padding=0, dilation=1, ceil_mode=False)\n",
       "  )\n",
       "  (layer2): Sequential(\n",
       "    (0): Conv2d(16, 32, kernel_size=(3, 3), stride=(1, 1), padding=(1, 1))\n",
       "    (1): BatchNorm2d(32, eps=1e-05, momentum=0.1, affine=True, track_running_stats=True)\n",
       "    (2): ReLU()\n",
       "    (3): MaxPool2d(kernel_size=2, stride=2, padding=0, dilation=1, ceil_mode=False)\n",
       "  )\n",
       "  (layer3): Sequential(\n",
       "    (0): Conv2d(32, 32, kernel_size=(3, 3), stride=(1, 1), padding=(1, 1))\n",
       "    (1): BatchNorm2d(32, eps=1e-05, momentum=0.1, affine=True, track_running_stats=True)\n",
       "    (2): ReLU()\n",
       "    (3): MaxPool2d(kernel_size=2, stride=2, padding=0, dilation=1, ceil_mode=False)\n",
       "  )\n",
       "  (drop_out): Dropout(p=0.5, inplace=False)\n",
       "  (fc1): Linear(in_features=512, out_features=32, bias=True)\n",
       "  (fc2): Linear(in_features=32, out_features=13, bias=True)\n",
       ")"
      ]
     },
     "execution_count": 15,
     "metadata": {},
     "output_type": "execute_result"
    }
   ],
   "source": [
    "# Load the model\n",
    "loaded_model = CNN()\n",
    "loaded_model.load_state_dict(torch.load('conv_net_model.ckpt',map_location=device))\n",
    "loaded_model.eval()\n"
   ]
  },
  {
   "cell_type": "code",
   "execution_count": 16,
   "id": "c3f32806",
   "metadata": {},
   "outputs": [],
   "source": [
    "# Testing Evaluation for CNN model\n",
    "\n",
    "val_set = datasets.ImageFolder('Test',transform = transformations)\n",
    "\n",
    "# YOUR CODE HERE for the DataLoader\n",
    "test_loader = torch.utils.data.DataLoader(val_set, batch_size=batch_size, shuffle=True, num_workers=1)"
   ]
  },
  {
   "cell_type": "code",
   "execution_count": 17,
   "id": "4e186de3",
   "metadata": {},
   "outputs": [
    {
     "name": "stdout",
     "output_type": "stream",
     "text": [
      "X_test: torch.Size([130, 3, 32, 32]) type: torch.FloatTensor\n",
      "y_test: torch.Size([130]) type: torch.LongTensor\n"
     ]
    }
   ],
   "source": [
    "# Get input/output from data loader\n",
    "for (X_test, y_test) in test_loader:\n",
    "    print('X_test:', X_test.size(), 'type:', X_test.type())\n",
    "    print('y_test:', y_test.size(), 'type:', y_test.type())\n",
    "    break"
   ]
  },
  {
   "cell_type": "code",
   "execution_count": 18,
   "id": "716df31a",
   "metadata": {},
   "outputs": [
    {
     "name": "stdout",
     "output_type": "stream",
     "text": [
      "Test Accuracy of the model on test images: 97.0053 %\n"
     ]
    }
   ],
   "source": [
    "# YOUR CODE HERE for calculating the accuracy\n",
    "loaded_model.eval()\n",
    "\n",
    "loaded_model = model.eval()\n",
    "\n",
    "correct = 0\n",
    "total = 0\n",
    "\n",
    "#Initalize empty tensor for storing predictions\n",
    "predicted_np = torch.empty(0)\n",
    "\n",
    "#Initialize empty tensor for storing labels from test data\n",
    "test_labels_np = torch.empty(0)\n",
    "\n",
    "#Transfer empty tensor to \"device\" (to CUDA if necesaary)\n",
    "predicted_np , test_labels_np = predicted_np.to(device), test_labels_np.to(device)\n",
    "\n",
    "for images, labels in test_loader:\n",
    "    images = Variable(images.float())\n",
    "    images, labels = images.to(device), labels.to(device)\n",
    "    outputs = loaded_model(images)\n",
    "    _, predicted = torch.max(outputs.data, 1)\n",
    "    predicted_np = torch.concat((predicted_np,predicted))\n",
    "    test_labels_np = torch.concat((test_labels_np,labels))\n",
    "    total += labels.size(0)\n",
    "    correct += (predicted == labels).sum()\n",
    "\n",
    "#Transfer tensors with label, to cpu and convert to numpy arrays for further processings.\n",
    "predicted_np = predicted_np.cpu().numpy()\n",
    "test_labels_np = test_labels_np.cpu().detach().numpy()\n",
    "print('Test Accuracy of the model on test images: %.4f %%' % (100 * correct / total))"
   ]
  },
  {
   "cell_type": "code",
   "execution_count": 19,
   "id": "27880045",
   "metadata": {},
   "outputs": [
    {
     "data": {
      "image/png": "[encoded data removed]",
      "text/plain": [
       "<Figure size 1440x1080 with 2 Axes>"
      ]
     },
     "metadata": {
      "needs_background": "light"
     },
     "output_type": "display_data"
    }
   ],
   "source": [
    "conf_matrix(predicted_np,test_labels_np)"
   ]
  },
  {
   "cell_type": "markdown",
   "id": "112c3d79",
   "metadata": {},
   "source": [
    "100 EPOCH"
   ]
  },
  {
   "cell_type": "code",
   "execution_count": 28,
   "id": "0bb623dc",
   "metadata": {},
   "outputs": [
    {
     "name": "stdout",
     "output_type": "stream",
     "text": [
      "CNN(\n",
      "  (layer1): Sequential(\n",
      "    (0): Conv2d(3, 16, kernel_size=(3, 3), stride=(1, 1), padding=(1, 1))\n",
      "    (1): BatchNorm2d(16, eps=1e-05, momentum=0.1, affine=True, track_running_stats=True)\n",
      "    (2): ReLU()\n",
      "    (3): MaxPool2d(kernel_size=2, stride=2, padding=0, dilation=1, ceil_mode=False)\n",
      "  )\n",
      "  (layer2): Sequential(\n",
      "    (0): Conv2d(16, 32, kernel_size=(3, 3), stride=(1, 1), padding=(1, 1))\n",
      "    (1): BatchNorm2d(32, eps=1e-05, momentum=0.1, affine=True, track_running_stats=True)\n",
      "    (2): ReLU()\n",
      "    (3): MaxPool2d(kernel_size=2, stride=2, padding=0, dilation=1, ceil_mode=False)\n",
      "  )\n",
      "  (layer3): Sequential(\n",
      "    (0): Conv2d(32, 32, kernel_size=(3, 3), stride=(1, 1), padding=(1, 1))\n",
      "    (1): BatchNorm2d(32, eps=1e-05, momentum=0.1, affine=True, track_running_stats=True)\n",
      "    (2): ReLU()\n",
      "    (3): MaxPool2d(kernel_size=2, stride=2, padding=0, dilation=1, ceil_mode=False)\n",
      "  )\n",
      "  (drop_out): Dropout(p=0.5, inplace=False)\n",
      "  (fc1): Linear(in_features=512, out_features=32, bias=True)\n",
      "  (fc2): Linear(in_features=32, out_features=13, bias=True)\n",
      ")\n"
     ]
    }
   ],
   "source": [
    "# Declaring the loss function and optimizer\n",
    "\n",
    "model = CNN()\n",
    "model = model.to(device)\n",
    "print(model)\n",
    "\n",
    "#criterion = # YOUR CODE HERE : Explore and declare loss function\n",
    "# loss_fn = torch.nn.BCELoss()\n",
    "loss_fn = torch.nn.CrossEntropyLoss()\n",
    "\n",
    "#optimizer = # YOUR CODE HERE : Explore on optimizer and define with the learning rate\n",
    "# optimizer = optim.SGD(model.parameters(), lr=0.01, momentum=0.5)\n",
    "learning_rate = 0.001\n",
    "optimizer = torch.optim.Adam(model.parameters(), lr=learning_rate)"
   ]
  },
  {
   "cell_type": "code",
   "execution_count": 29,
   "id": "ecf23009",
   "metadata": {},
   "outputs": [
    {
     "name": "stdout",
     "output_type": "stream",
     "text": [
      "Train Epoch: 1 [0/17219 (0%)]\tLoss: 2.655083\tAccuracy: 6.92%\n",
      "Train Epoch: 1 [13000/17219 (75%)]\tLoss: 0.518243\tAccuracy: 86.92%\n",
      "Train Epoch: 2 [0/17219 (0%)]\tLoss: 0.432241\tAccuracy: 86.92%\n",
      "Train Epoch: 2 [13000/17219 (75%)]\tLoss: 0.154716\tAccuracy: 96.15%\n",
      "Train Epoch: 3 [0/17219 (0%)]\tLoss: 0.096926\tAccuracy: 97.69%\n",
      "Train Epoch: 3 [13000/17219 (75%)]\tLoss: 0.132308\tAccuracy: 94.62%\n",
      "Train Epoch: 4 [0/17219 (0%)]\tLoss: 0.073138\tAccuracy: 98.46%\n",
      "Train Epoch: 4 [13000/17219 (75%)]\tLoss: 0.053481\tAccuracy: 98.46%\n",
      "Train Epoch: 5 [0/17219 (0%)]\tLoss: 0.062261\tAccuracy: 97.69%\n",
      "Train Epoch: 5 [13000/17219 (75%)]\tLoss: 0.122695\tAccuracy: 96.15%\n",
      "Train Epoch: 6 [0/17219 (0%)]\tLoss: 0.048146\tAccuracy: 98.46%\n",
      "Train Epoch: 6 [13000/17219 (75%)]\tLoss: 0.050980\tAccuracy: 98.46%\n",
      "Train Epoch: 7 [0/17219 (0%)]\tLoss: 0.082173\tAccuracy: 96.92%\n",
      "Train Epoch: 7 [13000/17219 (75%)]\tLoss: 0.032719\tAccuracy: 99.23%\n",
      "Train Epoch: 8 [0/17219 (0%)]\tLoss: 0.064663\tAccuracy: 99.23%\n",
      "Train Epoch: 8 [13000/17219 (75%)]\tLoss: 0.030734\tAccuracy: 99.23%\n",
      "Train Epoch: 9 [0/17219 (0%)]\tLoss: 0.054176\tAccuracy: 96.92%\n",
      "Train Epoch: 9 [13000/17219 (75%)]\tLoss: 0.030275\tAccuracy: 98.46%\n",
      "Train Epoch: 10 [0/17219 (0%)]\tLoss: 0.013126\tAccuracy: 100.00%\n",
      "Train Epoch: 10 [13000/17219 (75%)]\tLoss: 0.024567\tAccuracy: 99.23%\n",
      "Train Epoch: 11 [0/17219 (0%)]\tLoss: 0.017719\tAccuracy: 99.23%\n",
      "Train Epoch: 11 [13000/17219 (75%)]\tLoss: 0.030504\tAccuracy: 99.23%\n",
      "Train Epoch: 12 [0/17219 (0%)]\tLoss: 0.065277\tAccuracy: 96.92%\n",
      "Train Epoch: 12 [13000/17219 (75%)]\tLoss: 0.024725\tAccuracy: 99.23%\n",
      "Train Epoch: 13 [0/17219 (0%)]\tLoss: 0.022607\tAccuracy: 99.23%\n",
      "Train Epoch: 13 [13000/17219 (75%)]\tLoss: 0.005060\tAccuracy: 100.00%\n",
      "Train Epoch: 14 [0/17219 (0%)]\tLoss: 0.020005\tAccuracy: 99.23%\n",
      "Train Epoch: 14 [13000/17219 (75%)]\tLoss: 0.016172\tAccuracy: 99.23%\n",
      "Train Epoch: 15 [0/17219 (0%)]\tLoss: 0.025785\tAccuracy: 99.23%\n",
      "Train Epoch: 15 [13000/17219 (75%)]\tLoss: 0.027069\tAccuracy: 99.23%\n",
      "Train Epoch: 16 [0/17219 (0%)]\tLoss: 0.012398\tAccuracy: 100.00%\n",
      "Train Epoch: 16 [13000/17219 (75%)]\tLoss: 0.009033\tAccuracy: 100.00%\n",
      "Train Epoch: 17 [0/17219 (0%)]\tLoss: 0.001481\tAccuracy: 100.00%\n",
      "Train Epoch: 17 [13000/17219 (75%)]\tLoss: 0.010693\tAccuracy: 100.00%\n",
      "Train Epoch: 18 [0/17219 (0%)]\tLoss: 0.049068\tAccuracy: 98.46%\n",
      "Train Epoch: 18 [13000/17219 (75%)]\tLoss: 0.024041\tAccuracy: 98.46%\n",
      "Train Epoch: 19 [0/17219 (0%)]\tLoss: 0.013085\tAccuracy: 99.23%\n",
      "Train Epoch: 19 [13000/17219 (75%)]\tLoss: 0.006588\tAccuracy: 100.00%\n",
      "Train Epoch: 20 [0/17219 (0%)]\tLoss: 0.014303\tAccuracy: 99.23%\n",
      "Train Epoch: 20 [13000/17219 (75%)]\tLoss: 0.020804\tAccuracy: 99.23%\n",
      "Train Epoch: 21 [0/17219 (0%)]\tLoss: 0.000843\tAccuracy: 100.00%\n",
      "Train Epoch: 21 [13000/17219 (75%)]\tLoss: 0.018110\tAccuracy: 99.23%\n",
      "Train Epoch: 22 [0/17219 (0%)]\tLoss: 0.016049\tAccuracy: 99.23%\n",
      "Train Epoch: 22 [13000/17219 (75%)]\tLoss: 0.008585\tAccuracy: 100.00%\n",
      "Train Epoch: 23 [0/17219 (0%)]\tLoss: 0.034271\tAccuracy: 99.23%\n",
      "Train Epoch: 23 [13000/17219 (75%)]\tLoss: 0.014914\tAccuracy: 99.23%\n",
      "Train Epoch: 24 [0/17219 (0%)]\tLoss: 0.007158\tAccuracy: 100.00%\n",
      "Train Epoch: 24 [13000/17219 (75%)]\tLoss: 0.006763\tAccuracy: 100.00%\n",
      "Train Epoch: 25 [0/17219 (0%)]\tLoss: 0.047366\tAccuracy: 99.23%\n",
      "Train Epoch: 25 [13000/17219 (75%)]\tLoss: 0.015117\tAccuracy: 99.23%\n",
      "Train Epoch: 26 [0/17219 (0%)]\tLoss: 0.011724\tAccuracy: 100.00%\n",
      "Train Epoch: 26 [13000/17219 (75%)]\tLoss: 0.005549\tAccuracy: 100.00%\n",
      "Train Epoch: 27 [0/17219 (0%)]\tLoss: 0.005926\tAccuracy: 100.00%\n",
      "Train Epoch: 27 [13000/17219 (75%)]\tLoss: 0.011353\tAccuracy: 99.23%\n",
      "Train Epoch: 28 [0/17219 (0%)]\tLoss: 0.043066\tAccuracy: 99.23%\n",
      "Train Epoch: 28 [13000/17219 (75%)]\tLoss: 0.007356\tAccuracy: 100.00%\n",
      "Train Epoch: 29 [0/17219 (0%)]\tLoss: 0.001007\tAccuracy: 100.00%\n",
      "Train Epoch: 29 [13000/17219 (75%)]\tLoss: 0.002382\tAccuracy: 100.00%\n",
      "Train Epoch: 30 [0/17219 (0%)]\tLoss: 0.010029\tAccuracy: 99.23%\n",
      "Train Epoch: 30 [13000/17219 (75%)]\tLoss: 0.005983\tAccuracy: 100.00%\n",
      "Train Epoch: 31 [0/17219 (0%)]\tLoss: 0.037041\tAccuracy: 99.23%\n",
      "Train Epoch: 31 [13000/17219 (75%)]\tLoss: 0.014118\tAccuracy: 99.23%\n",
      "Train Epoch: 32 [0/17219 (0%)]\tLoss: 0.005033\tAccuracy: 100.00%\n",
      "Train Epoch: 32 [13000/17219 (75%)]\tLoss: 0.004543\tAccuracy: 100.00%\n",
      "Train Epoch: 33 [0/17219 (0%)]\tLoss: 0.000814\tAccuracy: 100.00%\n",
      "Train Epoch: 33 [13000/17219 (75%)]\tLoss: 0.001020\tAccuracy: 100.00%\n",
      "Train Epoch: 34 [0/17219 (0%)]\tLoss: 0.015738\tAccuracy: 99.23%\n",
      "Train Epoch: 34 [13000/17219 (75%)]\tLoss: 0.000565\tAccuracy: 100.00%\n",
      "Train Epoch: 35 [0/17219 (0%)]\tLoss: 0.005085\tAccuracy: 100.00%\n",
      "Train Epoch: 35 [13000/17219 (75%)]\tLoss: 0.005744\tAccuracy: 100.00%\n",
      "Train Epoch: 36 [0/17219 (0%)]\tLoss: 0.008660\tAccuracy: 99.23%\n",
      "Train Epoch: 36 [13000/17219 (75%)]\tLoss: 0.046819\tAccuracy: 99.23%\n",
      "Train Epoch: 37 [0/17219 (0%)]\tLoss: 0.030295\tAccuracy: 99.23%\n",
      "Train Epoch: 37 [13000/17219 (75%)]\tLoss: 0.001340\tAccuracy: 100.00%\n",
      "Train Epoch: 38 [0/17219 (0%)]\tLoss: 0.001119\tAccuracy: 100.00%\n",
      "Train Epoch: 38 [13000/17219 (75%)]\tLoss: 0.035259\tAccuracy: 99.23%\n",
      "Train Epoch: 39 [0/17219 (0%)]\tLoss: 0.000597\tAccuracy: 100.00%\n",
      "Train Epoch: 39 [13000/17219 (75%)]\tLoss: 0.013872\tAccuracy: 99.23%\n",
      "Train Epoch: 40 [0/17219 (0%)]\tLoss: 0.004819\tAccuracy: 100.00%\n",
      "Train Epoch: 40 [13000/17219 (75%)]\tLoss: 0.001506\tAccuracy: 100.00%\n",
      "Train Epoch: 41 [0/17219 (0%)]\tLoss: 0.008792\tAccuracy: 99.23%\n",
      "Train Epoch: 41 [13000/17219 (75%)]\tLoss: 0.003629\tAccuracy: 100.00%\n",
      "Train Epoch: 42 [0/17219 (0%)]\tLoss: 0.013127\tAccuracy: 99.23%\n",
      "Train Epoch: 42 [13000/17219 (75%)]\tLoss: 0.000199\tAccuracy: 100.00%\n",
      "Train Epoch: 43 [0/17219 (0%)]\tLoss: 0.001813\tAccuracy: 100.00%\n",
      "Train Epoch: 43 [13000/17219 (75%)]\tLoss: 0.000720\tAccuracy: 100.00%\n",
      "Train Epoch: 44 [0/17219 (0%)]\tLoss: 0.003414\tAccuracy: 100.00%\n",
      "Train Epoch: 44 [13000/17219 (75%)]\tLoss: 0.012612\tAccuracy: 99.23%\n",
      "Train Epoch: 45 [0/17219 (0%)]\tLoss: 0.045938\tAccuracy: 99.23%\n",
      "Train Epoch: 45 [13000/17219 (75%)]\tLoss: 0.006144\tAccuracy: 100.00%\n",
      "Train Epoch: 46 [0/17219 (0%)]\tLoss: 0.002033\tAccuracy: 100.00%\n",
      "Train Epoch: 46 [13000/17219 (75%)]\tLoss: 0.004768\tAccuracy: 100.00%\n",
      "Train Epoch: 47 [0/17219 (0%)]\tLoss: 0.000940\tAccuracy: 100.00%\n",
      "Train Epoch: 47 [13000/17219 (75%)]\tLoss: 0.040566\tAccuracy: 99.23%\n",
      "Train Epoch: 48 [0/17219 (0%)]\tLoss: 0.011910\tAccuracy: 99.23%\n",
      "Train Epoch: 48 [13000/17219 (75%)]\tLoss: 0.001833\tAccuracy: 100.00%\n",
      "Train Epoch: 49 [0/17219 (0%)]\tLoss: 0.002271\tAccuracy: 100.00%\n",
      "Train Epoch: 49 [13000/17219 (75%)]\tLoss: 0.001339\tAccuracy: 100.00%\n",
      "Train Epoch: 50 [0/17219 (0%)]\tLoss: 0.003826\tAccuracy: 100.00%\n",
      "Train Epoch: 50 [13000/17219 (75%)]\tLoss: 0.000400\tAccuracy: 100.00%\n",
      "Train Epoch: 51 [0/17219 (0%)]\tLoss: 0.020618\tAccuracy: 99.23%\n",
      "Train Epoch: 51 [13000/17219 (75%)]\tLoss: 0.009454\tAccuracy: 99.23%\n",
      "Train Epoch: 52 [0/17219 (0%)]\tLoss: 0.008360\tAccuracy: 99.23%\n",
      "Train Epoch: 52 [13000/17219 (75%)]\tLoss: 0.002546\tAccuracy: 100.00%\n",
      "Train Epoch: 53 [0/17219 (0%)]\tLoss: 0.004939\tAccuracy: 100.00%\n",
      "Train Epoch: 53 [13000/17219 (75%)]\tLoss: 0.002916\tAccuracy: 100.00%\n",
      "Train Epoch: 54 [0/17219 (0%)]\tLoss: 0.006240\tAccuracy: 99.23%\n",
      "Train Epoch: 54 [13000/17219 (75%)]\tLoss: 0.000108\tAccuracy: 100.00%\n",
      "Train Epoch: 55 [0/17219 (0%)]\tLoss: 0.000511\tAccuracy: 100.00%\n",
      "Train Epoch: 55 [13000/17219 (75%)]\tLoss: 0.000647\tAccuracy: 100.00%\n",
      "Train Epoch: 56 [0/17219 (0%)]\tLoss: 0.014573\tAccuracy: 99.23%\n",
      "Train Epoch: 56 [13000/17219 (75%)]\tLoss: 0.003844\tAccuracy: 100.00%\n",
      "Train Epoch: 57 [0/17219 (0%)]\tLoss: 0.000148\tAccuracy: 100.00%\n",
      "Train Epoch: 57 [13000/17219 (75%)]\tLoss: 0.000233\tAccuracy: 100.00%\n",
      "Train Epoch: 58 [0/17219 (0%)]\tLoss: 0.001166\tAccuracy: 100.00%\n",
      "Train Epoch: 58 [13000/17219 (75%)]\tLoss: 0.000422\tAccuracy: 100.00%\n",
      "Train Epoch: 59 [0/17219 (0%)]\tLoss: 0.006109\tAccuracy: 100.00%\n",
      "Train Epoch: 59 [13000/17219 (75%)]\tLoss: 0.001534\tAccuracy: 100.00%\n",
      "Train Epoch: 60 [0/17219 (0%)]\tLoss: 0.000050\tAccuracy: 100.00%\n",
      "Train Epoch: 60 [13000/17219 (75%)]\tLoss: 0.004898\tAccuracy: 100.00%\n",
      "Train Epoch: 61 [0/17219 (0%)]\tLoss: 0.001045\tAccuracy: 100.00%\n",
      "Train Epoch: 61 [13000/17219 (75%)]\tLoss: 0.000776\tAccuracy: 100.00%\n",
      "Train Epoch: 62 [0/17219 (0%)]\tLoss: 0.000200\tAccuracy: 100.00%\n",
      "Train Epoch: 62 [13000/17219 (75%)]\tLoss: 0.000393\tAccuracy: 100.00%\n",
      "Train Epoch: 63 [0/17219 (0%)]\tLoss: 0.017074\tAccuracy: 99.23%\n",
      "Train Epoch: 63 [13000/17219 (75%)]\tLoss: 0.000566\tAccuracy: 100.00%\n",
      "Train Epoch: 64 [0/17219 (0%)]\tLoss: 0.017952\tAccuracy: 99.23%\n",
      "Train Epoch: 64 [13000/17219 (75%)]\tLoss: 0.009781\tAccuracy: 100.00%\n",
      "Train Epoch: 65 [0/17219 (0%)]\tLoss: 0.000598\tAccuracy: 100.00%\n",
      "Train Epoch: 65 [13000/17219 (75%)]\tLoss: 0.002671\tAccuracy: 100.00%\n",
      "Train Epoch: 66 [0/17219 (0%)]\tLoss: 0.005171\tAccuracy: 100.00%\n",
      "Train Epoch: 66 [13000/17219 (75%)]\tLoss: 0.018789\tAccuracy: 99.23%\n",
      "Train Epoch: 67 [0/17219 (0%)]\tLoss: 0.012819\tAccuracy: 99.23%\n",
      "Train Epoch: 67 [13000/17219 (75%)]\tLoss: 0.008625\tAccuracy: 99.23%\n",
      "Train Epoch: 68 [0/17219 (0%)]\tLoss: 0.056954\tAccuracy: 99.23%\n",
      "Train Epoch: 68 [13000/17219 (75%)]\tLoss: 0.023440\tAccuracy: 99.23%\n",
      "Train Epoch: 69 [0/17219 (0%)]\tLoss: 0.111786\tAccuracy: 99.23%\n",
      "Train Epoch: 69 [13000/17219 (75%)]\tLoss: 0.000083\tAccuracy: 100.00%\n",
      "Train Epoch: 70 [0/17219 (0%)]\tLoss: 0.000461\tAccuracy: 100.00%\n",
      "Train Epoch: 70 [13000/17219 (75%)]\tLoss: 0.005120\tAccuracy: 100.00%\n",
      "Train Epoch: 71 [0/17219 (0%)]\tLoss: 0.038387\tAccuracy: 99.23%\n",
      "Train Epoch: 71 [13000/17219 (75%)]\tLoss: 0.000756\tAccuracy: 100.00%\n",
      "Train Epoch: 72 [0/17219 (0%)]\tLoss: 0.005023\tAccuracy: 100.00%\n",
      "Train Epoch: 72 [13000/17219 (75%)]\tLoss: 0.028420\tAccuracy: 99.23%\n",
      "Train Epoch: 73 [0/17219 (0%)]\tLoss: 0.000332\tAccuracy: 100.00%\n",
      "Train Epoch: 73 [13000/17219 (75%)]\tLoss: 0.000556\tAccuracy: 100.00%\n",
      "Train Epoch: 74 [0/17219 (0%)]\tLoss: 0.010655\tAccuracy: 99.23%\n",
      "Train Epoch: 74 [13000/17219 (75%)]\tLoss: 0.003504\tAccuracy: 100.00%\n",
      "Train Epoch: 75 [0/17219 (0%)]\tLoss: 0.011595\tAccuracy: 99.23%\n",
      "Train Epoch: 75 [13000/17219 (75%)]\tLoss: 0.000054\tAccuracy: 100.00%\n",
      "Train Epoch: 76 [0/17219 (0%)]\tLoss: 0.000090\tAccuracy: 100.00%\n",
      "Train Epoch: 76 [13000/17219 (75%)]\tLoss: 0.000084\tAccuracy: 100.00%\n",
      "Train Epoch: 77 [0/17219 (0%)]\tLoss: 0.000073\tAccuracy: 100.00%\n",
      "Train Epoch: 77 [13000/17219 (75%)]\tLoss: 0.019858\tAccuracy: 98.46%\n",
      "Train Epoch: 78 [0/17219 (0%)]\tLoss: 0.019771\tAccuracy: 99.23%\n",
      "Train Epoch: 78 [13000/17219 (75%)]\tLoss: 0.028543\tAccuracy: 99.23%\n",
      "Train Epoch: 79 [0/17219 (0%)]\tLoss: 0.051271\tAccuracy: 99.23%\n",
      "Train Epoch: 79 [13000/17219 (75%)]\tLoss: 0.000293\tAccuracy: 100.00%\n",
      "Train Epoch: 80 [0/17219 (0%)]\tLoss: 0.000209\tAccuracy: 100.00%\n",
      "Train Epoch: 80 [13000/17219 (75%)]\tLoss: 0.000107\tAccuracy: 100.00%\n",
      "Train Epoch: 81 [0/17219 (0%)]\tLoss: 0.000221\tAccuracy: 100.00%\n",
      "Train Epoch: 81 [13000/17219 (75%)]\tLoss: 0.000087\tAccuracy: 100.00%\n",
      "Train Epoch: 82 [0/17219 (0%)]\tLoss: 0.000631\tAccuracy: 100.00%\n",
      "Train Epoch: 82 [13000/17219 (75%)]\tLoss: 0.000042\tAccuracy: 100.00%\n",
      "Train Epoch: 83 [0/17219 (0%)]\tLoss: 0.000283\tAccuracy: 100.00%\n",
      "Train Epoch: 83 [13000/17219 (75%)]\tLoss: 0.000027\tAccuracy: 100.00%\n",
      "Train Epoch: 84 [0/17219 (0%)]\tLoss: 0.001091\tAccuracy: 100.00%\n",
      "Train Epoch: 84 [13000/17219 (75%)]\tLoss: 0.000009\tAccuracy: 100.00%\n",
      "Train Epoch: 85 [0/17219 (0%)]\tLoss: 0.000610\tAccuracy: 100.00%\n",
      "Train Epoch: 85 [13000/17219 (75%)]\tLoss: 0.000125\tAccuracy: 100.00%\n",
      "Train Epoch: 86 [0/17219 (0%)]\tLoss: 0.000116\tAccuracy: 100.00%\n",
      "Train Epoch: 86 [13000/17219 (75%)]\tLoss: 0.000951\tAccuracy: 100.00%\n",
      "Train Epoch: 87 [0/17219 (0%)]\tLoss: 0.000707\tAccuracy: 100.00%\n",
      "Train Epoch: 87 [13000/17219 (75%)]\tLoss: 0.000409\tAccuracy: 100.00%\n",
      "Train Epoch: 88 [0/17219 (0%)]\tLoss: 0.025268\tAccuracy: 99.23%\n",
      "Train Epoch: 88 [13000/17219 (75%)]\tLoss: 0.000384\tAccuracy: 100.00%\n",
      "Train Epoch: 89 [0/17219 (0%)]\tLoss: 0.011253\tAccuracy: 99.23%\n",
      "Train Epoch: 89 [13000/17219 (75%)]\tLoss: 0.005189\tAccuracy: 100.00%\n",
      "Train Epoch: 90 [0/17219 (0%)]\tLoss: 0.000235\tAccuracy: 100.00%\n",
      "Train Epoch: 90 [13000/17219 (75%)]\tLoss: 0.002954\tAccuracy: 100.00%\n",
      "Train Epoch: 91 [0/17219 (0%)]\tLoss: 0.000033\tAccuracy: 100.00%\n",
      "Train Epoch: 91 [13000/17219 (75%)]\tLoss: 0.002327\tAccuracy: 100.00%\n",
      "Train Epoch: 92 [0/17219 (0%)]\tLoss: 0.008342\tAccuracy: 99.23%\n",
      "Train Epoch: 92 [13000/17219 (75%)]\tLoss: 0.000687\tAccuracy: 100.00%\n",
      "Train Epoch: 93 [0/17219 (0%)]\tLoss: 0.000341\tAccuracy: 100.00%\n",
      "Train Epoch: 93 [13000/17219 (75%)]\tLoss: 0.000327\tAccuracy: 100.00%\n",
      "Train Epoch: 94 [0/17219 (0%)]\tLoss: 0.005149\tAccuracy: 100.00%\n",
      "Train Epoch: 94 [13000/17219 (75%)]\tLoss: 0.000005\tAccuracy: 100.00%\n",
      "Train Epoch: 95 [0/17219 (0%)]\tLoss: 0.000079\tAccuracy: 100.00%\n",
      "Train Epoch: 95 [13000/17219 (75%)]\tLoss: 0.005986\tAccuracy: 99.23%\n",
      "Train Epoch: 96 [0/17219 (0%)]\tLoss: 0.004094\tAccuracy: 100.00%\n",
      "Train Epoch: 96 [13000/17219 (75%)]\tLoss: 0.006059\tAccuracy: 100.00%\n",
      "Train Epoch: 97 [0/17219 (0%)]\tLoss: 0.000075\tAccuracy: 100.00%\n",
      "Train Epoch: 97 [13000/17219 (75%)]\tLoss: 0.000081\tAccuracy: 100.00%\n",
      "Train Epoch: 98 [0/17219 (0%)]\tLoss: 0.001230\tAccuracy: 100.00%\n",
      "Train Epoch: 98 [13000/17219 (75%)]\tLoss: 0.001611\tAccuracy: 100.00%\n",
      "Train Epoch: 99 [0/17219 (0%)]\tLoss: 0.028396\tAccuracy: 99.23%\n",
      "Train Epoch: 99 [13000/17219 (75%)]\tLoss: 0.000588\tAccuracy: 100.00%\n",
      "Train Epoch: 100 [0/17219 (0%)]\tLoss: 0.000773\tAccuracy: 100.00%\n",
      "Train Epoch: 100 [13000/17219 (75%)]\tLoss: 0.000281\tAccuracy: 100.00%\n",
      "Wall time: 21min 51s\n"
     ]
    }
   ],
   "source": [
    "%%time\n",
    "epochs = 100\n",
    "lossv, accv = [], []\n",
    "for epoch in range(1, epochs+1):\n",
    "    train(epoch)\n",
    "    # test(lossv, accv)"
   ]
  },
  {
   "cell_type": "code",
   "execution_count": 30,
   "id": "54d9338a",
   "metadata": {},
   "outputs": [
    {
     "name": "stdout",
     "output_type": "stream",
     "text": [
      "Test Accuracy of the model on test images: 99.2513 %\n"
     ]
    }
   ],
   "source": [
    "# YOUR CODE HERE for calculating the accuracy\n",
    "loaded_model.eval()\n",
    "\n",
    "loaded_model = model.eval()\n",
    "\n",
    "correct = 0\n",
    "total = 0\n",
    "\n",
    "#Initalize empty tensor for storing predictions\n",
    "predicted_np = torch.empty(0)\n",
    "\n",
    "#Initialize empty tensor for storing labels from test data\n",
    "test_labels_np = torch.empty(0)\n",
    "\n",
    "#Transfer empty tensor to \"device\" (to CUDA if necesaary)\n",
    "predicted_np , test_labels_np = predicted_np.to(device), test_labels_np.to(device)\n",
    "\n",
    "for images, labels in test_loader:\n",
    "    images = Variable(images.float())\n",
    "    images, labels = images.to(device), labels.to(device)\n",
    "    outputs = loaded_model(images)\n",
    "    _, predicted = torch.max(outputs.data, 1)\n",
    "    predicted_np = torch.concat((predicted_np,predicted))\n",
    "    test_labels_np = torch.concat((test_labels_np,labels))\n",
    "    total += labels.size(0)\n",
    "    correct += (predicted == labels).sum()\n",
    "\n",
    "#Transfer tensors with label, to cpu and convert to numpy arrays for further processings.\n",
    "predicted_np = predicted_np.cpu().numpy()\n",
    "test_labels_np = test_labels_np.cpu().detach().numpy()\n",
    "print('Test Accuracy of the model on test images: %.4f %%' % (100 * correct / total))"
   ]
  },
  {
   "cell_type": "code",
   "execution_count": 20,
   "id": "d87d8be4",
   "metadata": {},
   "outputs": [
    {
     "name": "stdout",
     "output_type": "stream",
     "text": [
      "Is CUDA supported by this system? True\n",
      "CUDA version: 11.3\n",
      "ID of current CUDA device: 0\n",
      "Name of current CUDA device:NVIDIA GeForce GTX 1650 Ti\n"
     ]
    }
   ],
   "source": [
    "import torch\n",
    "  \n",
    "print(f\"Is CUDA supported by this system? {torch.cuda.is_available()}\")\n",
    "print(f\"CUDA version: {torch.version.cuda}\")\n",
    "  \n",
    "# Storing ID of current CUDA device\n",
    "cuda_id = torch.cuda.current_device()\n",
    "print(f\"ID of current CUDA device: {torch.cuda.current_device()}\")\n",
    "        \n",
    "print(f\"Name of current CUDA device:{torch.cuda.get_device_name(cuda_id)}\")"
   ]
  },
  {
   "cell_type": "code",
   "execution_count": 21,
   "id": "4caf46e3",
   "metadata": {},
   "outputs": [
    {
     "data": {
      "text/plain": [
       "8200"
      ]
     },
     "execution_count": 21,
     "metadata": {},
     "output_type": "execute_result"
    }
   ],
   "source": [
    "torch.backends.cudnn.version()"
   ]
  }
 ],
 "metadata": {
  "kernelspec": {
   "display_name": "Python 3 (ipykernel)",
   "language": "python",
   "name": "python3"
  },
  "language_info": {
   "codemirror_mode": {
    "name": "ipython",
    "version": 3
   },
   "file_extension": ".py",
   "mimetype": "text/x-python",
   "name": "python",
   "nbconvert_exporter": "python",
   "pygments_lexer": "ipython3",
   "version": "3.8.10"
  }
 },
 "nbformat": 4,
 "nbformat_minor": 5
}
