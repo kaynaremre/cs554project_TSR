{
 "cells": [
  {
   "cell_type": "code",
   "execution_count": 1,
   "id": "cd440325",
   "metadata": {},
   "outputs": [],
   "source": [
    "# Import Libraries\n",
    "import matplotlib.pyplot as plt\n",
    "import torch\n",
    "from torch import nn\n",
    "from torch import optim\n",
    "import torch.nn.functional as F\n",
    "from torchvision import datasets, transforms, models\n",
    "from torch.autograd import Variable\n",
    "import matplotlib.pyplot as plt\n",
    "import seaborn as sn\n",
    "import numpy as np\n"
   ]
  },
  {
   "cell_type": "code",
   "execution_count": 2,
   "id": "14af2e00",
   "metadata": {},
   "outputs": [],
   "source": [
    "#Class Labels\n",
    "labels_ = [ \n",
    "            'Speed limit (30km/h)', \n",
    "            'Speed limit (50km/h)', \n",
    "            'Speed limit (120km/h)', \n",
    "            'No passing', \n",
    "            'No passing veh over 3.5 tons', \n",
    "            'Priority road', \n",
    "            'Yield', \n",
    "            'Stop', \n",
    "            'No entry', \n",
    "            'Turn right ahead', \n",
    "            'Turn left ahead', \n",
    "            'Go straight or right', \n",
    "            'Go straight or left', \n",
    "]"
   ]
  },
  {
   "cell_type": "code",
   "execution_count": 3,
   "id": "470c2c33",
   "metadata": {},
   "outputs": [],
   "source": [
    "#Defining function for plotting confusion matrix with Seaborn library\n",
    "from sklearn.metrics import confusion_matrix\n",
    "\n",
    "def conf_matrix(pred_labels, y_test):\n",
    "    conf_mat = confusion_matrix(y_test,pred_labels)\n",
    "    fig, ax = plt.subplots(figsize=(20,15))\n",
    "    sn.heatmap(conf_mat, annot=True, fmt='d',xticklabels=labels_, yticklabels=labels_)\n",
    "    plt.ylabel('Actual') \n",
    "    plt.yticks(rotation=0) \n",
    "    plt.xlabel('Predicted')\n",
    "    plt.show()"
   ]
  },
  {
   "cell_type": "code",
   "execution_count": 4,
   "id": "3998abf4",
   "metadata": {},
   "outputs": [
    {
     "name": "stdout",
     "output_type": "stream",
     "text": [
      "Using PyTorch version: 1.11.0 CUDA: True\n"
     ]
    }
   ],
   "source": [
    "### To test whether GPU instance is present in the system of not.\n",
    "use_cuda = torch.cuda.is_available()\n",
    "print('Using PyTorch version:', torch.__version__, 'CUDA:', use_cuda)"
   ]
  },
  {
   "cell_type": "code",
   "execution_count": 5,
   "id": "113de807",
   "metadata": {},
   "outputs": [
    {
     "data": {
      "text/plain": [
       "device(type='cuda')"
      ]
     },
     "execution_count": 5,
     "metadata": {},
     "output_type": "execute_result"
    }
   ],
   "source": [
    "device = torch.device(\"cuda\" if torch.cuda.is_available() else \"cpu\")\n",
    "device"
   ]
  },
  {
   "cell_type": "code",
   "execution_count": 6,
   "id": "50242f72",
   "metadata": {},
   "outputs": [
    {
     "data": {
      "text/plain": [
       "<torch._C.Generator at 0x21ca09c9c90>"
      ]
     },
     "execution_count": 6,
     "metadata": {},
     "output_type": "execute_result"
    }
   ],
   "source": [
    "\n",
    "# manual seed to reproduce same results\n",
    "\n",
    "def seed_worker(worker_id):\n",
    "    worker_seed = torch.initial_seed() % 2**32\n",
    "    torch.manual_seed(worker_seed)\n",
    "    torch.cuda.manual_seed(worker_seed)\n",
    "    torch.cuda.manual_seed_all(worker_seed)\n",
    "g = torch.Generator()\n",
    "g.manual_seed(0)"
   ]
  },
  {
   "cell_type": "code",
   "execution_count": 7,
   "id": "d363a3d5",
   "metadata": {},
   "outputs": [],
   "source": [
    "image_size = (32,32)\n",
    "\n",
    "transformations = transforms.Compose(\n",
    "        [transforms.Resize(list(image_size)),\n",
    "         transforms.ToTensor(),\n",
    "         transforms.Normalize(mean=[0.5], std=[0.5])])"
   ]
  },
  {
   "cell_type": "code",
   "execution_count": 8,
   "id": "13d42b83",
   "metadata": {},
   "outputs": [],
   "source": [
    "batch_size = 128 \n",
    "\n",
    "train_set = datasets.ImageFolder('Train', transform = transformations)\n",
    "\n",
    "# YOUR CODE HERE for the DataLoader\n",
    "train_loader = torch.utils.data.DataLoader(train_set, batch_size=batch_size, shuffle=True, num_workers=1)"
   ]
  },
  {
   "cell_type": "code",
   "execution_count": 9,
   "id": "23528377",
   "metadata": {},
   "outputs": [
    {
     "name": "stdout",
     "output_type": "stream",
     "text": [
      "X_train: torch.Size([128, 3, 32, 32]) type: torch.FloatTensor\n",
      "y_train: torch.Size([128]) type: torch.LongTensor\n"
     ]
    }
   ],
   "source": [
    "# Get input/output from data loader\n",
    "for (X_train, y_train) in train_loader:\n",
    "    print('X_train:', X_train.size(), 'type:', X_train.type())\n",
    "    print('y_train:', y_train.size(), 'type:', y_train.type())\n",
    "    break"
   ]
  },
  {
   "cell_type": "code",
   "execution_count": 10,
   "id": "41384425",
   "metadata": {},
   "outputs": [],
   "source": [
    "class Flatten(torch.nn.Module):\n",
    "    def forward(self, input):\n",
    "        return input.view(input.size(0), -1)"
   ]
  },
  {
   "cell_type": "code",
   "execution_count": 11,
   "id": "faf63ca3",
   "metadata": {},
   "outputs": [],
   "source": [
    "class CNN(nn.Module):\n",
    "    def __init__(self):\n",
    "        super(CNN, self).__init__()\n",
    "\n",
    "        # Convolutional Layers\n",
    "        self.layer1 = nn.Sequential(\n",
    "            nn.Conv2d(3, 16, kernel_size=3, stride=1, padding=1),\n",
    "            nn.BatchNorm2d(16),\n",
    "            nn.ReLU(),\n",
    "            nn.MaxPool2d(2))\n",
    "        self.layer2 = nn.Sequential(\n",
    "            nn.Conv2d(16, 32, kernel_size=3, stride=1, padding=1),\n",
    "            nn.BatchNorm2d(32),\n",
    "            nn.ReLU(),\n",
    "            nn.MaxPool2d(2))\n",
    "        self.layer3 = nn.Sequential(\n",
    "            nn.Conv2d(32, 32, kernel_size=3, stride=1, padding=1),\n",
    "            nn.BatchNorm2d(32),\n",
    "            nn.ReLU(),\n",
    "            nn.MaxPool2d(2))\n",
    "        \n",
    "        # Dropout to avoid overfitting\n",
    "        self.drop_out = nn.Dropout()\n",
    "\n",
    "        # Fully connected layers\n",
    "        self.fc1 = nn.Linear(512, 32)\n",
    "        self.fc2 = nn.Linear(32, 13)\n",
    "        \n",
    "    def forward(self, x):\n",
    "        out = self.layer1(x)\n",
    "        out = self.layer2(out)\n",
    "        out = self.layer3(out)\n",
    "\n",
    "        # Flatten\n",
    "        out = out.view(out.size(0), -1)\n",
    "\n",
    "        out = self.drop_out(out)\n",
    "        out = self.fc1(out)\n",
    "        out = self.fc2(out)\n",
    "        return out"
   ]
  },
  {
   "cell_type": "code",
   "execution_count": 12,
   "id": "0571d274",
   "metadata": {},
   "outputs": [
    {
     "name": "stdout",
     "output_type": "stream",
     "text": [
      "CNN(\n",
      "  (layer1): Sequential(\n",
      "    (0): Conv2d(3, 16, kernel_size=(3, 3), stride=(1, 1), padding=(1, 1))\n",
      "    (1): BatchNorm2d(16, eps=1e-05, momentum=0.1, affine=True, track_running_stats=True)\n",
      "    (2): ReLU()\n",
      "    (3): MaxPool2d(kernel_size=2, stride=2, padding=0, dilation=1, ceil_mode=False)\n",
      "  )\n",
      "  (layer2): Sequential(\n",
      "    (0): Conv2d(16, 32, kernel_size=(3, 3), stride=(1, 1), padding=(1, 1))\n",
      "    (1): BatchNorm2d(32, eps=1e-05, momentum=0.1, affine=True, track_running_stats=True)\n",
      "    (2): ReLU()\n",
      "    (3): MaxPool2d(kernel_size=2, stride=2, padding=0, dilation=1, ceil_mode=False)\n",
      "  )\n",
      "  (layer3): Sequential(\n",
      "    (0): Conv2d(32, 32, kernel_size=(3, 3), stride=(1, 1), padding=(1, 1))\n",
      "    (1): BatchNorm2d(32, eps=1e-05, momentum=0.1, affine=True, track_running_stats=True)\n",
      "    (2): ReLU()\n",
      "    (3): MaxPool2d(kernel_size=2, stride=2, padding=0, dilation=1, ceil_mode=False)\n",
      "  )\n",
      "  (drop_out): Dropout(p=0.5, inplace=False)\n",
      "  (fc1): Linear(in_features=512, out_features=32, bias=True)\n",
      "  (fc2): Linear(in_features=32, out_features=13, bias=True)\n",
      ")\n"
     ]
    }
   ],
   "source": [
    "# Declaring the loss function and optimizer\n",
    "\n",
    "model = CNN()\n",
    "model = model.to(device)\n",
    "print(model)\n",
    "\n",
    "#criterion = # YOUR CODE HERE : Explore and declare loss function\n",
    "# loss_fn = torch.nn.BCELoss()\n",
    "loss_fn = torch.nn.CrossEntropyLoss()\n",
    "\n",
    "#optimizer = # YOUR CODE HERE : Explore on optimizer and define with the learning rate\n",
    "# optimizer = optim.SGD(model.parameters(), lr=0.01, momentum=0.5)\n",
    "learning_rate = 0.001\n",
    "optimizer = torch.optim.Adam(model.parameters(), lr=learning_rate)"
   ]
  },
  {
   "cell_type": "code",
   "execution_count": 13,
   "id": "a0d392d4",
   "metadata": {},
   "outputs": [],
   "source": [
    "# YOUR CODE HERE. This will take time\n",
    "\n",
    "# Record loss and accuracy of the train dataset\n",
    "def train(epoch, log_interval=100):\n",
    "    for batch_idx, (data, target) in enumerate(train_loader):\n",
    "        data = Variable(data.float())\n",
    "        target = Variable(target)\n",
    "        data, target = data.to(device), target.to(device)\n",
    "        optimizer.zero_grad()\n",
    "        output = model(data)\n",
    "        loss = loss_fn(output, target)\n",
    "        loss.backward()\n",
    "        optimizer.step()\n",
    "\n",
    "        # Track the accuracy\n",
    "        total = target.size(0)\n",
    "        _, predicted = torch.max(output.data, 1)\n",
    "        correct = (predicted == target).sum().item()        \n",
    "\n",
    "        if batch_idx % log_interval == 0:\n",
    "            print('Train Epoch: {} [{}/{} ({:.0f}%)]\\tLoss: {:.6f}\\tAccuracy: {:.2f}%'.format(\n",
    "                epoch, batch_idx * len(data), len(train_loader.dataset),\n",
    "                100. * batch_idx / len(train_loader), loss.item(), (correct / total) * 100))"
   ]
  },
  {
   "cell_type": "code",
   "execution_count": 14,
   "id": "374d71cc",
   "metadata": {},
   "outputs": [
    {
     "name": "stdout",
     "output_type": "stream",
     "text": [
      "Train Epoch: 1 [0/17219 (0%)]\tLoss: 2.709090\tAccuracy: 7.03%\n",
      "Train Epoch: 1 [12800/17219 (74%)]\tLoss: 0.576885\tAccuracy: 78.91%\n",
      "Train Epoch: 2 [0/17219 (0%)]\tLoss: 0.333679\tAccuracy: 88.28%\n",
      "Train Epoch: 2 [12800/17219 (74%)]\tLoss: 0.276630\tAccuracy: 89.06%\n",
      "Train Epoch: 3 [0/17219 (0%)]\tLoss: 0.171959\tAccuracy: 95.31%\n",
      "Train Epoch: 3 [12800/17219 (74%)]\tLoss: 0.113141\tAccuracy: 96.09%\n",
      "Train Epoch: 4 [0/17219 (0%)]\tLoss: 0.114174\tAccuracy: 96.88%\n",
      "Train Epoch: 4 [12800/17219 (74%)]\tLoss: 0.101568\tAccuracy: 96.09%\n",
      "Train Epoch: 5 [0/17219 (0%)]\tLoss: 0.122559\tAccuracy: 96.09%\n",
      "Train Epoch: 5 [12800/17219 (74%)]\tLoss: 0.054726\tAccuracy: 98.44%\n",
      "Train Epoch: 6 [0/17219 (0%)]\tLoss: 0.095199\tAccuracy: 97.66%\n",
      "Train Epoch: 6 [12800/17219 (74%)]\tLoss: 0.047720\tAccuracy: 98.44%\n",
      "CPU times: total: 13.4 s\n",
      "Wall time: 2min 1s\n"
     ]
    }
   ],
   "source": [
    "%%time\n",
    "epochs = 6\n",
    "lossv, accv = [], []\n",
    "for epoch in range(1, epochs+1):\n",
    "    train(epoch)\n",
    "    # test(lossv, accv)"
   ]
  },
  {
   "cell_type": "code",
   "execution_count": 15,
   "id": "3dfd3ae7",
   "metadata": {},
   "outputs": [],
   "source": [
    "torch.save(model.state_dict(), 'conv_net_model.ckpt')"
   ]
  },
  {
   "cell_type": "code",
   "execution_count": 16,
   "id": "c99d5eab",
   "metadata": {},
   "outputs": [
    {
     "data": {
      "text/plain": [
       "CNN(\n",
       "  (layer1): Sequential(\n",
       "    (0): Conv2d(3, 16, kernel_size=(3, 3), stride=(1, 1), padding=(1, 1))\n",
       "    (1): BatchNorm2d(16, eps=1e-05, momentum=0.1, affine=True, track_running_stats=True)\n",
       "    (2): ReLU()\n",
       "    (3): MaxPool2d(kernel_size=2, stride=2, padding=0, dilation=1, ceil_mode=False)\n",
       "  )\n",
       "  (layer2): Sequential(\n",
       "    (0): Conv2d(16, 32, kernel_size=(3, 3), stride=(1, 1), padding=(1, 1))\n",
       "    (1): BatchNorm2d(32, eps=1e-05, momentum=0.1, affine=True, track_running_stats=True)\n",
       "    (2): ReLU()\n",
       "    (3): MaxPool2d(kernel_size=2, stride=2, padding=0, dilation=1, ceil_mode=False)\n",
       "  )\n",
       "  (layer3): Sequential(\n",
       "    (0): Conv2d(32, 32, kernel_size=(3, 3), stride=(1, 1), padding=(1, 1))\n",
       "    (1): BatchNorm2d(32, eps=1e-05, momentum=0.1, affine=True, track_running_stats=True)\n",
       "    (2): ReLU()\n",
       "    (3): MaxPool2d(kernel_size=2, stride=2, padding=0, dilation=1, ceil_mode=False)\n",
       "  )\n",
       "  (drop_out): Dropout(p=0.5, inplace=False)\n",
       "  (fc1): Linear(in_features=512, out_features=32, bias=True)\n",
       "  (fc2): Linear(in_features=32, out_features=13, bias=True)\n",
       ")"
      ]
     },
     "execution_count": 16,
     "metadata": {},
     "output_type": "execute_result"
    }
   ],
   "source": [
    "# Load the model\n",
    "loaded_model = CNN()\n",
    "loaded_model.load_state_dict(torch.load('conv_net_model.ckpt',map_location=device))\n",
    "loaded_model.eval()\n"
   ]
  },
  {
   "cell_type": "code",
   "execution_count": 17,
   "id": "c3f32806",
   "metadata": {},
   "outputs": [],
   "source": [
    "# Testing Evaluation for CNN model\n",
    "\n",
    "val_set = datasets.ImageFolder('Test',transform = transformations)\n",
    "\n",
    "# YOUR CODE HERE for the DataLoader\n",
    "test_loader = torch.utils.data.DataLoader(val_set, batch_size=batch_size, shuffle=True, num_workers=1)"
   ]
  },
  {
   "cell_type": "code",
   "execution_count": 18,
   "id": "4e186de3",
   "metadata": {},
   "outputs": [
    {
     "name": "stdout",
     "output_type": "stream",
     "text": [
      "X_test: torch.Size([128, 3, 32, 32]) type: torch.FloatTensor\n",
      "y_test: torch.Size([128]) type: torch.LongTensor\n"
     ]
    }
   ],
   "source": [
    "# Get input/output from data loader\n",
    "for (X_test, y_test) in test_loader:\n",
    "    print('X_test:', X_test.size(), 'type:', X_test.type())\n",
    "    print('y_test:', y_test.size(), 'type:', y_test.type())\n",
    "    break"
   ]
  },
  {
   "cell_type": "code",
   "execution_count": 19,
   "id": "716df31a",
   "metadata": {},
   "outputs": [
    {
     "name": "stdout",
     "output_type": "stream",
     "text": [
      "Test Accuracy of the model on test images: 95.7397 %\n"
     ]
    }
   ],
   "source": [
    "# YOUR CODE HERE for calculating the accuracy\n",
    "loaded_model.eval()\n",
    "\n",
    "loaded_model = model.eval()\n",
    "\n",
    "correct = 0\n",
    "total = 0\n",
    "\n",
    "#Initalize empty tensor for storing predictions\n",
    "predicted_np = torch.empty(0)\n",
    "\n",
    "#Initialize empty tensor for storing labels from test data\n",
    "test_labels_np = torch.empty(0)\n",
    "\n",
    "#Transfer empty tensor to \"device\" (to CUDA if necesaary)\n",
    "predicted_np , test_labels_np = predicted_np.to(device), test_labels_np.to(device)\n",
    "\n",
    "for images, labels in test_loader:\n",
    "    images = Variable(images.float())\n",
    "    images, labels = images.to(device), labels.to(device)\n",
    "    outputs = loaded_model(images)\n",
    "    _, predicted = torch.max(outputs.data, 1)\n",
    "    predicted_np = torch.concat((predicted_np,predicted))\n",
    "    test_labels_np = torch.concat((test_labels_np,labels))\n",
    "    total += labels.size(0)\n",
    "    correct += (predicted == labels).sum()\n",
    "\n",
    "#Transfer tensors with label, to cpu and convert to numpy arrays for further processings.\n",
    "predicted_np = predicted_np.cpu().numpy()\n",
    "test_labels_np = test_labels_np.cpu().detach().numpy()\n",
    "print('Test Accuracy of the model on test images: %.4f %%' % (100 * correct / total))"
   ]
  },
  {
   "cell_type": "code",
   "execution_count": 20,
   "id": "27880045",
   "metadata": {},
   "outputs": [
    {
     "data": {
      "image/png": "[encoded data removed]",
      "text/plain": [
       "<Figure size 1440x1080 with 2 Axes>"
      ]
     },
     "metadata": {
      "needs_background": "light"
     },
     "output_type": "display_data"
    }
   ],
   "source": [
    "conf_matrix(predicted_np,test_labels_np)"
   ]
  },
  {
   "cell_type": "markdown",
   "id": "112c3d79",
   "metadata": {},
   "source": [
    "100 EPOCH"
   ]
  },
  {
   "cell_type": "code",
   "execution_count": 21,
   "id": "0bb623dc",
   "metadata": {},
   "outputs": [
    {
     "name": "stdout",
     "output_type": "stream",
     "text": [
      "CNN(\n",
      "  (layer1): Sequential(\n",
      "    (0): Conv2d(3, 16, kernel_size=(3, 3), stride=(1, 1), padding=(1, 1))\n",
      "    (1): BatchNorm2d(16, eps=1e-05, momentum=0.1, affine=True, track_running_stats=True)\n",
      "    (2): ReLU()\n",
      "    (3): MaxPool2d(kernel_size=2, stride=2, padding=0, dilation=1, ceil_mode=False)\n",
      "  )\n",
      "  (layer2): Sequential(\n",
      "    (0): Conv2d(16, 32, kernel_size=(3, 3), stride=(1, 1), padding=(1, 1))\n",
      "    (1): BatchNorm2d(32, eps=1e-05, momentum=0.1, affine=True, track_running_stats=True)\n",
      "    (2): ReLU()\n",
      "    (3): MaxPool2d(kernel_size=2, stride=2, padding=0, dilation=1, ceil_mode=False)\n",
      "  )\n",
      "  (layer3): Sequential(\n",
      "    (0): Conv2d(32, 32, kernel_size=(3, 3), stride=(1, 1), padding=(1, 1))\n",
      "    (1): BatchNorm2d(32, eps=1e-05, momentum=0.1, affine=True, track_running_stats=True)\n",
      "    (2): ReLU()\n",
      "    (3): MaxPool2d(kernel_size=2, stride=2, padding=0, dilation=1, ceil_mode=False)\n",
      "  )\n",
      "  (drop_out): Dropout(p=0.5, inplace=False)\n",
      "  (fc1): Linear(in_features=512, out_features=32, bias=True)\n",
      "  (fc2): Linear(in_features=32, out_features=13, bias=True)\n",
      ")\n"
     ]
    }
   ],
   "source": [
    "# Declaring the loss function and optimizer\n",
    "\n",
    "model = CNN()\n",
    "model = model.to(device)\n",
    "print(model)\n",
    "\n",
    "#criterion = # YOUR CODE HERE : Explore and declare loss function\n",
    "# loss_fn = torch.nn.BCELoss()\n",
    "loss_fn = torch.nn.CrossEntropyLoss()\n",
    "\n",
    "#optimizer = # YOUR CODE HERE : Explore on optimizer and define with the learning rate\n",
    "# optimizer = optim.SGD(model.parameters(), lr=0.01, momentum=0.5)\n",
    "learning_rate = 0.001\n",
    "optimizer = torch.optim.Adam(model.parameters(), lr=learning_rate)"
   ]
  },
  {
   "cell_type": "code",
   "execution_count": 22,
   "id": "ecf23009",
   "metadata": {},
   "outputs": [
    {
     "name": "stdout",
     "output_type": "stream",
     "text": [
      "Train Epoch: 1 [0/17219 (0%)]\tLoss: 2.609921\tAccuracy: 8.59%\n",
      "Train Epoch: 1 [12800/17219 (74%)]\tLoss: 0.552109\tAccuracy: 81.25%\n",
      "Train Epoch: 2 [0/17219 (0%)]\tLoss: 0.488929\tAccuracy: 88.28%\n",
      "Train Epoch: 2 [12800/17219 (74%)]\tLoss: 0.320066\tAccuracy: 89.84%\n",
      "Train Epoch: 3 [0/17219 (0%)]\tLoss: 0.134291\tAccuracy: 96.88%\n",
      "Train Epoch: 3 [12800/17219 (74%)]\tLoss: 0.147937\tAccuracy: 97.66%\n",
      "Train Epoch: 4 [0/17219 (0%)]\tLoss: 0.129932\tAccuracy: 96.09%\n",
      "Train Epoch: 4 [12800/17219 (74%)]\tLoss: 0.103804\tAccuracy: 96.09%\n",
      "Train Epoch: 5 [0/17219 (0%)]\tLoss: 0.066435\tAccuracy: 98.44%\n",
      "Train Epoch: 5 [12800/17219 (74%)]\tLoss: 0.046307\tAccuracy: 98.44%\n",
      "Train Epoch: 6 [0/17219 (0%)]\tLoss: 0.045014\tAccuracy: 100.00%\n",
      "Train Epoch: 6 [12800/17219 (74%)]\tLoss: 0.039542\tAccuracy: 99.22%\n",
      "Train Epoch: 7 [0/17219 (0%)]\tLoss: 0.074245\tAccuracy: 97.66%\n",
      "Train Epoch: 7 [12800/17219 (74%)]\tLoss: 0.077288\tAccuracy: 96.09%\n",
      "Train Epoch: 8 [0/17219 (0%)]\tLoss: 0.067141\tAccuracy: 97.66%\n",
      "Train Epoch: 8 [12800/17219 (74%)]\tLoss: 0.016761\tAccuracy: 100.00%\n",
      "Train Epoch: 9 [0/17219 (0%)]\tLoss: 0.033565\tAccuracy: 99.22%\n",
      "Train Epoch: 9 [12800/17219 (74%)]\tLoss: 0.009056\tAccuracy: 100.00%\n",
      "Train Epoch: 10 [0/17219 (0%)]\tLoss: 0.040080\tAccuracy: 99.22%\n",
      "Train Epoch: 10 [12800/17219 (74%)]\tLoss: 0.046954\tAccuracy: 99.22%\n",
      "Train Epoch: 11 [0/17219 (0%)]\tLoss: 0.025411\tAccuracy: 99.22%\n",
      "Train Epoch: 11 [12800/17219 (74%)]\tLoss: 0.035110\tAccuracy: 99.22%\n",
      "Train Epoch: 12 [0/17219 (0%)]\tLoss: 0.003211\tAccuracy: 100.00%\n",
      "Train Epoch: 12 [12800/17219 (74%)]\tLoss: 0.061657\tAccuracy: 99.22%\n",
      "Train Epoch: 13 [0/17219 (0%)]\tLoss: 0.021798\tAccuracy: 99.22%\n",
      "Train Epoch: 13 [12800/17219 (74%)]\tLoss: 0.032307\tAccuracy: 99.22%\n",
      "Train Epoch: 14 [0/17219 (0%)]\tLoss: 0.003817\tAccuracy: 100.00%\n",
      "Train Epoch: 14 [12800/17219 (74%)]\tLoss: 0.009410\tAccuracy: 100.00%\n",
      "Train Epoch: 15 [0/17219 (0%)]\tLoss: 0.027356\tAccuracy: 99.22%\n",
      "Train Epoch: 15 [12800/17219 (74%)]\tLoss: 0.010865\tAccuracy: 100.00%\n",
      "Train Epoch: 16 [0/17219 (0%)]\tLoss: 0.009359\tAccuracy: 100.00%\n",
      "Train Epoch: 16 [12800/17219 (74%)]\tLoss: 0.018334\tAccuracy: 98.44%\n",
      "Train Epoch: 17 [0/17219 (0%)]\tLoss: 0.008532\tAccuracy: 100.00%\n",
      "Train Epoch: 17 [12800/17219 (74%)]\tLoss: 0.007722\tAccuracy: 100.00%\n",
      "Train Epoch: 18 [0/17219 (0%)]\tLoss: 0.003184\tAccuracy: 100.00%\n",
      "Train Epoch: 18 [12800/17219 (74%)]\tLoss: 0.028511\tAccuracy: 99.22%\n",
      "Train Epoch: 19 [0/17219 (0%)]\tLoss: 0.024555\tAccuracy: 99.22%\n",
      "Train Epoch: 19 [12800/17219 (74%)]\tLoss: 0.011778\tAccuracy: 99.22%\n",
      "Train Epoch: 20 [0/17219 (0%)]\tLoss: 0.026495\tAccuracy: 99.22%\n",
      "Train Epoch: 20 [12800/17219 (74%)]\tLoss: 0.014888\tAccuracy: 99.22%\n",
      "Train Epoch: 21 [0/17219 (0%)]\tLoss: 0.039596\tAccuracy: 98.44%\n"
     ]
    },
    {
     "ename": "KeyboardInterrupt",
     "evalue": "",
     "output_type": "error",
     "traceback": [
      "\u001b[1;31m---------------------------------------------------------------------------\u001b[0m",
      "\u001b[1;31mKeyboardInterrupt\u001b[0m                         Traceback (most recent call last)",
      "File \u001b[1;32m<timed exec>:4\u001b[0m, in \u001b[0;36m<module>\u001b[1;34m\u001b[0m\n",
      "\u001b[1;32mc:\\Users\\doruk\\Desktop\\CS554-Project\\cs554project_TSR\\3LayerCNN_RGB.ipynb Cell 13'\u001b[0m in \u001b[0;36mtrain\u001b[1;34m(epoch, log_interval)\u001b[0m\n\u001b[0;32m      <a href='vscode-notebook-cell:/c%3A/Users/doruk/Desktop/CS554-Project/cs554project_TSR/3LayerCNN_RGB.ipynb#ch0000011?line=3'>4</a>\u001b[0m \u001b[39mdef\u001b[39;00m \u001b[39mtrain\u001b[39m(epoch, log_interval\u001b[39m=\u001b[39m\u001b[39m100\u001b[39m):\n\u001b[1;32m----> <a href='vscode-notebook-cell:/c%3A/Users/doruk/Desktop/CS554-Project/cs554project_TSR/3LayerCNN_RGB.ipynb#ch0000011?line=4'>5</a>\u001b[0m     \u001b[39mfor\u001b[39;00m batch_idx, (data, target) \u001b[39min\u001b[39;00m \u001b[39menumerate\u001b[39m(train_loader):\n\u001b[0;32m      <a href='vscode-notebook-cell:/c%3A/Users/doruk/Desktop/CS554-Project/cs554project_TSR/3LayerCNN_RGB.ipynb#ch0000011?line=5'>6</a>\u001b[0m         data \u001b[39m=\u001b[39m Variable(data\u001b[39m.\u001b[39mfloat())\n\u001b[0;32m      <a href='vscode-notebook-cell:/c%3A/Users/doruk/Desktop/CS554-Project/cs554project_TSR/3LayerCNN_RGB.ipynb#ch0000011?line=6'>7</a>\u001b[0m         target \u001b[39m=\u001b[39m Variable(target)\n",
      "File \u001b[1;32mc:\\Users\\doruk\\anaconda3\\lib\\site-packages\\torch\\utils\\data\\dataloader.py:530\u001b[0m, in \u001b[0;36m_BaseDataLoaderIter.__next__\u001b[1;34m(self)\u001b[0m\n\u001b[0;32m    <a href='file:///c%3A/Users/doruk/anaconda3/lib/site-packages/torch/utils/data/dataloader.py?line=527'>528</a>\u001b[0m \u001b[39mif\u001b[39;00m \u001b[39mself\u001b[39m\u001b[39m.\u001b[39m_sampler_iter \u001b[39mis\u001b[39;00m \u001b[39mNone\u001b[39;00m:\n\u001b[0;32m    <a href='file:///c%3A/Users/doruk/anaconda3/lib/site-packages/torch/utils/data/dataloader.py?line=528'>529</a>\u001b[0m     \u001b[39mself\u001b[39m\u001b[39m.\u001b[39m_reset()\n\u001b[1;32m--> <a href='file:///c%3A/Users/doruk/anaconda3/lib/site-packages/torch/utils/data/dataloader.py?line=529'>530</a>\u001b[0m data \u001b[39m=\u001b[39m \u001b[39mself\u001b[39;49m\u001b[39m.\u001b[39;49m_next_data()\n\u001b[0;32m    <a href='file:///c%3A/Users/doruk/anaconda3/lib/site-packages/torch/utils/data/dataloader.py?line=530'>531</a>\u001b[0m \u001b[39mself\u001b[39m\u001b[39m.\u001b[39m_num_yielded \u001b[39m+\u001b[39m\u001b[39m=\u001b[39m \u001b[39m1\u001b[39m\n\u001b[0;32m    <a href='file:///c%3A/Users/doruk/anaconda3/lib/site-packages/torch/utils/data/dataloader.py?line=531'>532</a>\u001b[0m \u001b[39mif\u001b[39;00m \u001b[39mself\u001b[39m\u001b[39m.\u001b[39m_dataset_kind \u001b[39m==\u001b[39m _DatasetKind\u001b[39m.\u001b[39mIterable \u001b[39mand\u001b[39;00m \\\n\u001b[0;32m    <a href='file:///c%3A/Users/doruk/anaconda3/lib/site-packages/torch/utils/data/dataloader.py?line=532'>533</a>\u001b[0m         \u001b[39mself\u001b[39m\u001b[39m.\u001b[39m_IterableDataset_len_called \u001b[39mis\u001b[39;00m \u001b[39mnot\u001b[39;00m \u001b[39mNone\u001b[39;00m \u001b[39mand\u001b[39;00m \\\n\u001b[0;32m    <a href='file:///c%3A/Users/doruk/anaconda3/lib/site-packages/torch/utils/data/dataloader.py?line=533'>534</a>\u001b[0m         \u001b[39mself\u001b[39m\u001b[39m.\u001b[39m_num_yielded \u001b[39m>\u001b[39m \u001b[39mself\u001b[39m\u001b[39m.\u001b[39m_IterableDataset_len_called:\n",
      "File \u001b[1;32mc:\\Users\\doruk\\anaconda3\\lib\\site-packages\\torch\\utils\\data\\dataloader.py:1207\u001b[0m, in \u001b[0;36m_MultiProcessingDataLoaderIter._next_data\u001b[1;34m(self)\u001b[0m\n\u001b[0;32m   <a href='file:///c%3A/Users/doruk/anaconda3/lib/site-packages/torch/utils/data/dataloader.py?line=1203'>1204</a>\u001b[0m     \u001b[39mreturn\u001b[39;00m \u001b[39mself\u001b[39m\u001b[39m.\u001b[39m_process_data(data)\n\u001b[0;32m   <a href='file:///c%3A/Users/doruk/anaconda3/lib/site-packages/torch/utils/data/dataloader.py?line=1205'>1206</a>\u001b[0m \u001b[39massert\u001b[39;00m \u001b[39mnot\u001b[39;00m \u001b[39mself\u001b[39m\u001b[39m.\u001b[39m_shutdown \u001b[39mand\u001b[39;00m \u001b[39mself\u001b[39m\u001b[39m.\u001b[39m_tasks_outstanding \u001b[39m>\u001b[39m \u001b[39m0\u001b[39m\n\u001b[1;32m-> <a href='file:///c%3A/Users/doruk/anaconda3/lib/site-packages/torch/utils/data/dataloader.py?line=1206'>1207</a>\u001b[0m idx, data \u001b[39m=\u001b[39m \u001b[39mself\u001b[39;49m\u001b[39m.\u001b[39;49m_get_data()\n\u001b[0;32m   <a href='file:///c%3A/Users/doruk/anaconda3/lib/site-packages/torch/utils/data/dataloader.py?line=1207'>1208</a>\u001b[0m \u001b[39mself\u001b[39m\u001b[39m.\u001b[39m_tasks_outstanding \u001b[39m-\u001b[39m\u001b[39m=\u001b[39m \u001b[39m1\u001b[39m\n\u001b[0;32m   <a href='file:///c%3A/Users/doruk/anaconda3/lib/site-packages/torch/utils/data/dataloader.py?line=1208'>1209</a>\u001b[0m \u001b[39mif\u001b[39;00m \u001b[39mself\u001b[39m\u001b[39m.\u001b[39m_dataset_kind \u001b[39m==\u001b[39m _DatasetKind\u001b[39m.\u001b[39mIterable:\n\u001b[0;32m   <a href='file:///c%3A/Users/doruk/anaconda3/lib/site-packages/torch/utils/data/dataloader.py?line=1209'>1210</a>\u001b[0m     \u001b[39m# Check for _IterableDatasetStopIteration\u001b[39;00m\n",
      "File \u001b[1;32mc:\\Users\\doruk\\anaconda3\\lib\\site-packages\\torch\\utils\\data\\dataloader.py:1173\u001b[0m, in \u001b[0;36m_MultiProcessingDataLoaderIter._get_data\u001b[1;34m(self)\u001b[0m\n\u001b[0;32m   <a href='file:///c%3A/Users/doruk/anaconda3/lib/site-packages/torch/utils/data/dataloader.py?line=1168'>1169</a>\u001b[0m     \u001b[39m# In this case, `self._data_queue` is a `queue.Queue`,. But we don't\u001b[39;00m\n\u001b[0;32m   <a href='file:///c%3A/Users/doruk/anaconda3/lib/site-packages/torch/utils/data/dataloader.py?line=1169'>1170</a>\u001b[0m     \u001b[39m# need to call `.task_done()` because we don't use `.join()`.\u001b[39;00m\n\u001b[0;32m   <a href='file:///c%3A/Users/doruk/anaconda3/lib/site-packages/torch/utils/data/dataloader.py?line=1170'>1171</a>\u001b[0m \u001b[39melse\u001b[39;00m:\n\u001b[0;32m   <a href='file:///c%3A/Users/doruk/anaconda3/lib/site-packages/torch/utils/data/dataloader.py?line=1171'>1172</a>\u001b[0m     \u001b[39mwhile\u001b[39;00m \u001b[39mTrue\u001b[39;00m:\n\u001b[1;32m-> <a href='file:///c%3A/Users/doruk/anaconda3/lib/site-packages/torch/utils/data/dataloader.py?line=1172'>1173</a>\u001b[0m         success, data \u001b[39m=\u001b[39m \u001b[39mself\u001b[39;49m\u001b[39m.\u001b[39;49m_try_get_data()\n\u001b[0;32m   <a href='file:///c%3A/Users/doruk/anaconda3/lib/site-packages/torch/utils/data/dataloader.py?line=1173'>1174</a>\u001b[0m         \u001b[39mif\u001b[39;00m success:\n\u001b[0;32m   <a href='file:///c%3A/Users/doruk/anaconda3/lib/site-packages/torch/utils/data/dataloader.py?line=1174'>1175</a>\u001b[0m             \u001b[39mreturn\u001b[39;00m data\n",
      "File \u001b[1;32mc:\\Users\\doruk\\anaconda3\\lib\\site-packages\\torch\\utils\\data\\dataloader.py:1011\u001b[0m, in \u001b[0;36m_MultiProcessingDataLoaderIter._try_get_data\u001b[1;34m(self, timeout)\u001b[0m\n\u001b[0;32m    <a href='file:///c%3A/Users/doruk/anaconda3/lib/site-packages/torch/utils/data/dataloader.py?line=997'>998</a>\u001b[0m \u001b[39mdef\u001b[39;00m \u001b[39m_try_get_data\u001b[39m(\u001b[39mself\u001b[39m, timeout\u001b[39m=\u001b[39m_utils\u001b[39m.\u001b[39mMP_STATUS_CHECK_INTERVAL):\n\u001b[0;32m    <a href='file:///c%3A/Users/doruk/anaconda3/lib/site-packages/torch/utils/data/dataloader.py?line=998'>999</a>\u001b[0m     \u001b[39m# Tries to fetch data from `self._data_queue` once for a given timeout.\u001b[39;00m\n\u001b[0;32m   <a href='file:///c%3A/Users/doruk/anaconda3/lib/site-packages/torch/utils/data/dataloader.py?line=999'>1000</a>\u001b[0m     \u001b[39m# This can also be used as inner loop of fetching without timeout, with\u001b[39;00m\n\u001b[1;32m   (...)\u001b[0m\n\u001b[0;32m   <a href='file:///c%3A/Users/doruk/anaconda3/lib/site-packages/torch/utils/data/dataloader.py?line=1007'>1008</a>\u001b[0m     \u001b[39m# Returns a 2-tuple:\u001b[39;00m\n\u001b[0;32m   <a href='file:///c%3A/Users/doruk/anaconda3/lib/site-packages/torch/utils/data/dataloader.py?line=1008'>1009</a>\u001b[0m     \u001b[39m#   (bool: whether successfully get data, any: data if successful else None)\u001b[39;00m\n\u001b[0;32m   <a href='file:///c%3A/Users/doruk/anaconda3/lib/site-packages/torch/utils/data/dataloader.py?line=1009'>1010</a>\u001b[0m     \u001b[39mtry\u001b[39;00m:\n\u001b[1;32m-> <a href='file:///c%3A/Users/doruk/anaconda3/lib/site-packages/torch/utils/data/dataloader.py?line=1010'>1011</a>\u001b[0m         data \u001b[39m=\u001b[39m \u001b[39mself\u001b[39;49m\u001b[39m.\u001b[39;49m_data_queue\u001b[39m.\u001b[39;49mget(timeout\u001b[39m=\u001b[39;49mtimeout)\n\u001b[0;32m   <a href='file:///c%3A/Users/doruk/anaconda3/lib/site-packages/torch/utils/data/dataloader.py?line=1011'>1012</a>\u001b[0m         \u001b[39mreturn\u001b[39;00m (\u001b[39mTrue\u001b[39;00m, data)\n\u001b[0;32m   <a href='file:///c%3A/Users/doruk/anaconda3/lib/site-packages/torch/utils/data/dataloader.py?line=1012'>1013</a>\u001b[0m     \u001b[39mexcept\u001b[39;00m \u001b[39mException\u001b[39;00m \u001b[39mas\u001b[39;00m e:\n\u001b[0;32m   <a href='file:///c%3A/Users/doruk/anaconda3/lib/site-packages/torch/utils/data/dataloader.py?line=1013'>1014</a>\u001b[0m         \u001b[39m# At timeout and error, we manually check whether any worker has\u001b[39;00m\n\u001b[0;32m   <a href='file:///c%3A/Users/doruk/anaconda3/lib/site-packages/torch/utils/data/dataloader.py?line=1014'>1015</a>\u001b[0m         \u001b[39m# failed. Note that this is the only mechanism for Windows to detect\u001b[39;00m\n\u001b[0;32m   <a href='file:///c%3A/Users/doruk/anaconda3/lib/site-packages/torch/utils/data/dataloader.py?line=1015'>1016</a>\u001b[0m         \u001b[39m# worker failures.\u001b[39;00m\n",
      "File \u001b[1;32mc:\\Users\\doruk\\anaconda3\\lib\\multiprocessing\\queues.py:113\u001b[0m, in \u001b[0;36mQueue.get\u001b[1;34m(self, block, timeout)\u001b[0m\n\u001b[0;32m    <a href='file:///c%3A/Users/doruk/anaconda3/lib/multiprocessing/queues.py?line=110'>111</a>\u001b[0m \u001b[39mif\u001b[39;00m block:\n\u001b[0;32m    <a href='file:///c%3A/Users/doruk/anaconda3/lib/multiprocessing/queues.py?line=111'>112</a>\u001b[0m     timeout \u001b[39m=\u001b[39m deadline \u001b[39m-\u001b[39m time\u001b[39m.\u001b[39mmonotonic()\n\u001b[1;32m--> <a href='file:///c%3A/Users/doruk/anaconda3/lib/multiprocessing/queues.py?line=112'>113</a>\u001b[0m     \u001b[39mif\u001b[39;00m \u001b[39mnot\u001b[39;00m \u001b[39mself\u001b[39;49m\u001b[39m.\u001b[39;49m_poll(timeout):\n\u001b[0;32m    <a href='file:///c%3A/Users/doruk/anaconda3/lib/multiprocessing/queues.py?line=113'>114</a>\u001b[0m         \u001b[39mraise\u001b[39;00m Empty\n\u001b[0;32m    <a href='file:///c%3A/Users/doruk/anaconda3/lib/multiprocessing/queues.py?line=114'>115</a>\u001b[0m \u001b[39melif\u001b[39;00m \u001b[39mnot\u001b[39;00m \u001b[39mself\u001b[39m\u001b[39m.\u001b[39m_poll():\n",
      "File \u001b[1;32mc:\\Users\\doruk\\anaconda3\\lib\\multiprocessing\\connection.py:262\u001b[0m, in \u001b[0;36m_ConnectionBase.poll\u001b[1;34m(self, timeout)\u001b[0m\n\u001b[0;32m    <a href='file:///c%3A/Users/doruk/anaconda3/lib/multiprocessing/connection.py?line=259'>260</a>\u001b[0m \u001b[39mself\u001b[39m\u001b[39m.\u001b[39m_check_closed()\n\u001b[0;32m    <a href='file:///c%3A/Users/doruk/anaconda3/lib/multiprocessing/connection.py?line=260'>261</a>\u001b[0m \u001b[39mself\u001b[39m\u001b[39m.\u001b[39m_check_readable()\n\u001b[1;32m--> <a href='file:///c%3A/Users/doruk/anaconda3/lib/multiprocessing/connection.py?line=261'>262</a>\u001b[0m \u001b[39mreturn\u001b[39;00m \u001b[39mself\u001b[39;49m\u001b[39m.\u001b[39;49m_poll(timeout)\n",
      "File \u001b[1;32mc:\\Users\\doruk\\anaconda3\\lib\\multiprocessing\\connection.py:335\u001b[0m, in \u001b[0;36mPipeConnection._poll\u001b[1;34m(self, timeout)\u001b[0m\n\u001b[0;32m    <a href='file:///c%3A/Users/doruk/anaconda3/lib/multiprocessing/connection.py?line=331'>332</a>\u001b[0m \u001b[39mif\u001b[39;00m (\u001b[39mself\u001b[39m\u001b[39m.\u001b[39m_got_empty_message \u001b[39mor\u001b[39;00m\n\u001b[0;32m    <a href='file:///c%3A/Users/doruk/anaconda3/lib/multiprocessing/connection.py?line=332'>333</a>\u001b[0m             _winapi\u001b[39m.\u001b[39mPeekNamedPipe(\u001b[39mself\u001b[39m\u001b[39m.\u001b[39m_handle)[\u001b[39m0\u001b[39m] \u001b[39m!=\u001b[39m \u001b[39m0\u001b[39m):\n\u001b[0;32m    <a href='file:///c%3A/Users/doruk/anaconda3/lib/multiprocessing/connection.py?line=333'>334</a>\u001b[0m     \u001b[39mreturn\u001b[39;00m \u001b[39mTrue\u001b[39;00m\n\u001b[1;32m--> <a href='file:///c%3A/Users/doruk/anaconda3/lib/multiprocessing/connection.py?line=334'>335</a>\u001b[0m \u001b[39mreturn\u001b[39;00m \u001b[39mbool\u001b[39m(wait([\u001b[39mself\u001b[39;49m], timeout))\n",
      "File \u001b[1;32mc:\\Users\\doruk\\anaconda3\\lib\\multiprocessing\\connection.py:884\u001b[0m, in \u001b[0;36mwait\u001b[1;34m(object_list, timeout)\u001b[0m\n\u001b[0;32m    <a href='file:///c%3A/Users/doruk/anaconda3/lib/multiprocessing/connection.py?line=880'>881</a>\u001b[0m                 ready_objects\u001b[39m.\u001b[39madd(o)\n\u001b[0;32m    <a href='file:///c%3A/Users/doruk/anaconda3/lib/multiprocessing/connection.py?line=881'>882</a>\u001b[0m                 timeout \u001b[39m=\u001b[39m \u001b[39m0\u001b[39m\n\u001b[1;32m--> <a href='file:///c%3A/Users/doruk/anaconda3/lib/multiprocessing/connection.py?line=883'>884</a>\u001b[0m     ready_handles \u001b[39m=\u001b[39m _exhaustive_wait(waithandle_to_obj\u001b[39m.\u001b[39;49mkeys(), timeout)\n\u001b[0;32m    <a href='file:///c%3A/Users/doruk/anaconda3/lib/multiprocessing/connection.py?line=884'>885</a>\u001b[0m \u001b[39mfinally\u001b[39;00m:\n\u001b[0;32m    <a href='file:///c%3A/Users/doruk/anaconda3/lib/multiprocessing/connection.py?line=885'>886</a>\u001b[0m     \u001b[39m# request that overlapped reads stop\u001b[39;00m\n\u001b[0;32m    <a href='file:///c%3A/Users/doruk/anaconda3/lib/multiprocessing/connection.py?line=886'>887</a>\u001b[0m     \u001b[39mfor\u001b[39;00m ov \u001b[39min\u001b[39;00m ov_list:\n",
      "File \u001b[1;32mc:\\Users\\doruk\\anaconda3\\lib\\multiprocessing\\connection.py:816\u001b[0m, in \u001b[0;36m_exhaustive_wait\u001b[1;34m(handles, timeout)\u001b[0m\n\u001b[0;32m    <a href='file:///c%3A/Users/doruk/anaconda3/lib/multiprocessing/connection.py?line=813'>814</a>\u001b[0m ready \u001b[39m=\u001b[39m []\n\u001b[0;32m    <a href='file:///c%3A/Users/doruk/anaconda3/lib/multiprocessing/connection.py?line=814'>815</a>\u001b[0m \u001b[39mwhile\u001b[39;00m L:\n\u001b[1;32m--> <a href='file:///c%3A/Users/doruk/anaconda3/lib/multiprocessing/connection.py?line=815'>816</a>\u001b[0m     res \u001b[39m=\u001b[39m _winapi\u001b[39m.\u001b[39;49mWaitForMultipleObjects(L, \u001b[39mFalse\u001b[39;49;00m, timeout)\n\u001b[0;32m    <a href='file:///c%3A/Users/doruk/anaconda3/lib/multiprocessing/connection.py?line=816'>817</a>\u001b[0m     \u001b[39mif\u001b[39;00m res \u001b[39m==\u001b[39m WAIT_TIMEOUT:\n\u001b[0;32m    <a href='file:///c%3A/Users/doruk/anaconda3/lib/multiprocessing/connection.py?line=817'>818</a>\u001b[0m         \u001b[39mbreak\u001b[39;00m\n",
      "\u001b[1;31mKeyboardInterrupt\u001b[0m: "
     ]
    }
   ],
   "source": [
    "%%time\n",
    "epochs = 100\n",
    "lossv, accv = [], []\n",
    "for epoch in range(1, epochs+1):\n",
    "    train(epoch)\n",
    "    # test(lossv, accv)"
   ]
  },
  {
   "cell_type": "code",
   "execution_count": null,
   "id": "54d9338a",
   "metadata": {},
   "outputs": [
    {
     "name": "stdout",
     "output_type": "stream",
     "text": [
      "Test Accuracy of the model on test images: 99.2513 %\n"
     ]
    }
   ],
   "source": [
    "# YOUR CODE HERE for calculating the accuracy\n",
    "loaded_model.eval()\n",
    "\n",
    "loaded_model = model.eval()\n",
    "\n",
    "correct = 0\n",
    "total = 0\n",
    "\n",
    "#Initalize empty tensor for storing predictions\n",
    "predicted_np = torch.empty(0)\n",
    "\n",
    "#Initialize empty tensor for storing labels from test data\n",
    "test_labels_np = torch.empty(0)\n",
    "\n",
    "#Transfer empty tensor to \"device\" (to CUDA if necesaary)\n",
    "predicted_np , test_labels_np = predicted_np.to(device), test_labels_np.to(device)\n",
    "\n",
    "for images, labels in test_loader:\n",
    "    images = Variable(images.float())\n",
    "    images, labels = images.to(device), labels.to(device)\n",
    "    outputs = loaded_model(images)\n",
    "    _, predicted = torch.max(outputs.data, 1)\n",
    "    predicted_np = torch.concat((predicted_np,predicted))\n",
    "    test_labels_np = torch.concat((test_labels_np,labels))\n",
    "    total += labels.size(0)\n",
    "    correct += (predicted == labels).sum()\n",
    "\n",
    "#Transfer tensors with label, to cpu and convert to numpy arrays for further processings.\n",
    "predicted_np = predicted_np.cpu().numpy()\n",
    "test_labels_np = test_labels_np.cpu().detach().numpy()\n",
    "print('Test Accuracy of the model on test images: %.4f %%' % (100 * correct / total))"
   ]
  },
  {
   "cell_type": "code",
   "execution_count": null,
   "id": "d87d8be4",
   "metadata": {},
   "outputs": [
    {
     "name": "stdout",
     "output_type": "stream",
     "text": [
      "Is CUDA supported by this system? True\n",
      "CUDA version: 11.3\n",
      "ID of current CUDA device: 0\n",
      "Name of current CUDA device:NVIDIA GeForce GTX 1650 Ti\n"
     ]
    }
   ],
   "source": [
    "import torch\n",
    "  \n",
    "print(f\"Is CUDA supported by this system? {torch.cuda.is_available()}\")\n",
    "print(f\"CUDA version: {torch.version.cuda}\")\n",
    "  \n",
    "# Storing ID of current CUDA device\n",
    "cuda_id = torch.cuda.current_device()\n",
    "print(f\"ID of current CUDA device: {torch.cuda.current_device()}\")\n",
    "        \n",
    "print(f\"Name of current CUDA device:{torch.cuda.get_device_name(cuda_id)}\")"
   ]
  },
  {
   "cell_type": "code",
   "execution_count": null,
   "id": "4caf46e3",
   "metadata": {},
   "outputs": [
    {
     "data": {
      "text/plain": [
       "8200"
      ]
     },
     "execution_count": 21,
     "metadata": {},
     "output_type": "execute_result"
    }
   ],
   "source": [
    "torch.backends.cudnn.version()"
   ]
  }
 ],
 "metadata": {
  "interpreter": {
   "hash": "97910c15a2bab8defa8bd1b3d4202e789446c7817b5031fe36be584fafe9f3e1"
  },
  "kernelspec": {
   "display_name": "Python 3.9.12 ('base')",
   "language": "python",
   "name": "python3"
  },
  "language_info": {
   "codemirror_mode": {
    "name": "ipython",
    "version": 3
   },
   "file_extension": ".py",
   "mimetype": "text/x-python",
   "name": "python",
   "nbconvert_exporter": "python",
   "pygments_lexer": "ipython3",
   "version": "3.9.12"
  }
 },
 "nbformat": 4,
 "nbformat_minor": 5
}
