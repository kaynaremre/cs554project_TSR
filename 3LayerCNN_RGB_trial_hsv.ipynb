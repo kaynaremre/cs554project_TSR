{
 "cells": [
  {
   "cell_type": "code",
   "execution_count": 12,
   "id": "cd440325",
   "metadata": {},
   "outputs": [],
   "source": [
    "# Import Libraries\n",
    "import matplotlib.pyplot as plt\n",
    "import torch\n",
    "from torch import nn\n",
    "from torch import optim\n",
    "import torch.nn.functional as F\n",
    "from torchvision import datasets, transforms, models\n",
    "from torch.autograd import Variable\n",
    "import matplotlib.pyplot as plt\n",
    "import seaborn as sn\n",
    "import numpy as np\n",
    "import random"
   ]
  },
  {
   "cell_type": "code",
   "execution_count": 13,
   "id": "14af2e00",
   "metadata": {},
   "outputs": [],
   "source": [
    "#Class Labels\n",
    "labels_ = [ \n",
    "            'Speed limit (30km/h)', \n",
    "            'Speed limit (50km/h)', \n",
    "            'Speed limit (120km/h)', \n",
    "            'No passing', \n",
    "            'No passing veh over 3.5 tons', \n",
    "            'Priority road', \n",
    "            'Yield', \n",
    "            'Stop', \n",
    "            'No entry', \n",
    "            'Turn right ahead', \n",
    "            'Turn left ahead', \n",
    "            'Go straight or right', \n",
    "            'Go straight or left', \n",
    "]"
   ]
  },
  {
   "cell_type": "code",
   "execution_count": 14,
   "id": "470c2c33",
   "metadata": {},
   "outputs": [],
   "source": [
    "#Defining function for plotting confusion matrix with Seaborn library\n",
    "from sklearn.metrics import confusion_matrix\n",
    "\n",
    "def conf_matrix(pred_labels, y_test):\n",
    "    conf_mat = confusion_matrix(y_test,pred_labels)\n",
    "    fig, ax = plt.subplots(figsize=(20,15))\n",
    "    sn.heatmap(conf_mat, annot=True, fmt='d',xticklabels=labels_, yticklabels=labels_)\n",
    "    plt.ylabel('Actual') \n",
    "    plt.yticks(rotation=0) \n",
    "    plt.xlabel('Predicted')\n",
    "    plt.show()"
   ]
  },
  {
   "cell_type": "code",
   "execution_count": 15,
   "id": "3998abf4",
   "metadata": {},
   "outputs": [
    {
     "name": "stdout",
     "output_type": "stream",
     "text": [
      "Using PyTorch version: 1.11.0+cu113 CUDA: True\n"
     ]
    }
   ],
   "source": [
    "### To test whether GPU instance is present in the system of not.\n",
    "use_cuda = torch.cuda.is_available()\n",
    "print('Using PyTorch version:', torch.__version__, 'CUDA:', use_cuda)"
   ]
  },
  {
   "cell_type": "code",
   "execution_count": 16,
   "id": "113de807",
   "metadata": {},
   "outputs": [
    {
     "data": {
      "text/plain": [
       "device(type='cuda')"
      ]
     },
     "execution_count": 16,
     "metadata": {},
     "output_type": "execute_result"
    }
   ],
   "source": [
    "device = torch.device(\"cuda\" if torch.cuda.is_available() else \"cpu\")\n",
    "device"
   ]
  },
  {
   "cell_type": "code",
   "execution_count": 17,
   "id": "0d367cb9",
   "metadata": {},
   "outputs": [],
   "source": [
    "# Function for tensor rgb to tensor hsv\n",
    "\n",
    "def rgb2hsv_torch(rgb: torch.Tensor) -> torch.Tensor:\n",
    "    cmax, cmax_idx = torch.max(rgb, dim=1, keepdim=True)\n",
    "    cmin = torch.min(rgb, dim=1, keepdim=True)[0]\n",
    "    delta = cmax - cmin\n",
    "    hsv_h = torch.empty_like(rgb[:, 0:1, :, :])\n",
    "    cmax_idx[delta == 0] = 3\n",
    "    hsv_h[cmax_idx == 0] = (((rgb[:, 1:2] - rgb[:, 2:3]) / delta) % 6)[cmax_idx == 0]\n",
    "    hsv_h[cmax_idx == 1] = (((rgb[:, 2:3] - rgb[:, 0:1]) / delta) + 2)[cmax_idx == 1]\n",
    "    hsv_h[cmax_idx == 2] = (((rgb[:, 0:1] - rgb[:, 1:2]) / delta) + 4)[cmax_idx == 2]\n",
    "    hsv_h[cmax_idx == 3] = 0.\n",
    "    hsv_h /= 6.\n",
    "    hsv_s = torch.where(cmax == 0, torch.tensor(0.).type_as(rgb), delta / cmax)\n",
    "    hsv_v = cmax\n",
    "    return torch.cat([hsv_h, hsv_s, hsv_v], dim=1)"
   ]
  },
  {
   "cell_type": "code",
   "execution_count": 18,
   "id": "50242f72",
   "metadata": {},
   "outputs": [
    {
     "data": {
      "text/plain": [
       "<torch._C.Generator at 0x1f6e1e06df0>"
      ]
     },
     "execution_count": 18,
     "metadata": {},
     "output_type": "execute_result"
    }
   ],
   "source": [
    "torch.manual_seed(60)\n",
    "torch.cuda.manual_seed_all(60)\n",
    "\n",
    "torch.backends.cudnn.deterministic = True\n",
    "torch.backends.cudnn.benchmark = False\n",
    "\n",
    "\n",
    "def seed_worker(worker_id):\n",
    "    worker_seed = torch.initial_seed() % 2**32\n",
    "    np.random.seed(worker_seed)\n",
    "    random.seed(worker_seed)\n",
    "\n",
    "g = torch.Generator()\n",
    "g.manual_seed(60)"
   ]
  },
  {
   "cell_type": "code",
   "execution_count": 19,
   "id": "6ce75035",
   "metadata": {},
   "outputs": [],
   "source": [
    "#Parameters\n",
    "learning_rate = 0.001\n",
    "batch_size = 128 \n",
    "num_epochs = 6"
   ]
  },
  {
   "cell_type": "code",
   "execution_count": 20,
   "id": "d363a3d5",
   "metadata": {},
   "outputs": [],
   "source": [
    "image_size = (32,32)\n",
    "\n",
    "transformations = transforms.Compose(\n",
    "        [transforms.Resize(list(image_size)),\n",
    "         transforms.ToTensor(),\n",
    "         transforms.Normalize(mean=[0.5], std=[0.5])])"
   ]
  },
  {
   "cell_type": "code",
   "execution_count": 21,
   "id": "13d42b83",
   "metadata": {},
   "outputs": [],
   "source": [
    "train_set = datasets.ImageFolder('Train_reduced', transform = transformations)"
   ]
  },
  {
   "cell_type": "code",
   "execution_count": 22,
   "id": "aae41896",
   "metadata": {},
   "outputs": [],
   "source": [
    "train_set, val_set = torch.utils.data.random_split(train_set, [17000, 219])"
   ]
  },
  {
   "cell_type": "code",
   "execution_count": 23,
   "id": "9e5e2796",
   "metadata": {},
   "outputs": [],
   "source": [
    "train_loader = torch.utils.data.DataLoader(train_set, batch_size=batch_size, shuffle=True, worker_init_fn=seed_worker, generator=g)"
   ]
  },
  {
   "cell_type": "code",
   "execution_count": 24,
   "id": "82e864a6",
   "metadata": {},
   "outputs": [],
   "source": [
    "val_loader = torch.utils.data.DataLoader(val_set, batch_size=batch_size, shuffle=True, worker_init_fn=seed_worker, generator=g)"
   ]
  },
  {
   "cell_type": "code",
   "execution_count": 25,
   "id": "23528377",
   "metadata": {},
   "outputs": [
    {
     "name": "stdout",
     "output_type": "stream",
     "text": [
      "X_train: torch.Size([128, 3, 32, 32]) type: torch.FloatTensor\n",
      "y_train: torch.Size([128]) type: torch.LongTensor\n",
      "17024\n"
     ]
    }
   ],
   "source": [
    "# Get input/output from data loader\n",
    "for (X_train, y_train) in train_loader:\n",
    "    print('X_train:', X_train.size(), 'type:', X_train.type())\n",
    "    print('y_train:', y_train.size(), 'type:', y_train.type())\n",
    "    break\n",
    "\n",
    "print(len(train_loader)*batch_size)\n",
    "train_loader.\n"
   ]
  },
  {
   "cell_type": "code",
   "execution_count": 34,
   "id": "7e3e92e9",
   "metadata": {},
   "outputs": [
    {
     "name": "stdout",
     "output_type": "stream",
     "text": [
      "X_train: torch.Size([128, 3, 32, 32]) type: torch.FloatTensor\n",
      "y_train: torch.Size([128]) type: torch.LongTensor\n",
      "256\n"
     ]
    }
   ],
   "source": [
    "# Get input/output from data loader\n",
    "for (X_train, y_train) in val_loader:\n",
    "    print('X_train:', X_train.size(), 'type:', X_train.type())\n",
    "    print('y_train:', y_train.size(), 'type:', y_train.type())    \n",
    "    break\n",
    "print(len(val_loader)*batch_size)"
   ]
  },
  {
   "cell_type": "code",
   "execution_count": 35,
   "id": "41384425",
   "metadata": {},
   "outputs": [],
   "source": [
    "class Flatten(torch.nn.Module):\n",
    "    def forward(self, input):\n",
    "        return input.view(input.size(0), -1)"
   ]
  },
  {
   "cell_type": "code",
   "execution_count": 36,
   "id": "faf63ca3",
   "metadata": {},
   "outputs": [],
   "source": [
    "class CNN(nn.Module):\n",
    "    def __init__(self):\n",
    "        super(CNN, self).__init__()\n",
    "\n",
    "        # Convolutional Layers\n",
    "        self.layer1 = nn.Sequential(\n",
    "            nn.Conv2d(3, 16, kernel_size=3, stride=1, padding=1),\n",
    "            nn.BatchNorm2d(16),\n",
    "            nn.ReLU(),\n",
    "            nn.MaxPool2d(2))\n",
    "        self.layer2 = nn.Sequential(\n",
    "            nn.Conv2d(16, 32, kernel_size=3, stride=1, padding=1),\n",
    "            nn.BatchNorm2d(32),\n",
    "            nn.ReLU(),\n",
    "            nn.MaxPool2d(2))\n",
    "        self.layer3 = nn.Sequential(\n",
    "            nn.Conv2d(32, 32, kernel_size=3, stride=1, padding=1),\n",
    "            nn.BatchNorm2d(32),\n",
    "            nn.ReLU(),\n",
    "            nn.MaxPool2d(2))\n",
    "        \n",
    "        # Dropout to avoid overfitting\n",
    "        self.drop_out = nn.Dropout()\n",
    "\n",
    "        # Fully connected layers\n",
    "        self.fc1 = nn.Linear(512, 32)\n",
    "        self.fc2 = nn.Linear(32, 13)\n",
    "        \n",
    "    def forward(self, x):\n",
    "        out = self.layer1(x)\n",
    "        out = self.layer2(out)\n",
    "        out = self.layer3(out)\n",
    "\n",
    "        # Flatten\n",
    "        out = out.view(out.size(0), -1)\n",
    "\n",
    "        out = self.drop_out(out)\n",
    "        out = self.fc1(out)\n",
    "        out = self.fc2(out)\n",
    "        return out"
   ]
  },
  {
   "cell_type": "code",
   "execution_count": 37,
   "id": "a0d392d4",
   "metadata": {},
   "outputs": [],
   "source": [
    "#Train Function\n",
    "def train(model, train_loader, loss_fn, optimizer):\n",
    "    model.train()\n",
    "    total_loss = 0\n",
    "    total_labels = 0\n",
    "    correct_labels = 0\n",
    "    for data, target in train_loader:\n",
    "        data = Variable(data.float())\n",
    "        target = Variable(target)\n",
    "        data, target = data.to(device), target.to(device)\n",
    "        optimizer.zero_grad()\n",
    "        output = model(data)\n",
    "        loss = loss_fn(output, target)\n",
    "        loss.backward()\n",
    "        optimizer.step()\n",
    "        total_loss += loss.item()\n",
    "\n",
    "        total_labels += target.size(0)\n",
    "        _, predicted = torch.max(output.data, 1)\n",
    "        correct_labels += (predicted == target).sum().item() \n",
    "\n",
    "    return data, target, output, total_loss/len(train_loader.dataset), correct_labels, total_labels\n",
    "\n",
    "#Validation Function\n",
    "def validation(model, val_loader, loss_fn):\n",
    "    model.eval()\n",
    "    total_loss = 0\n",
    "    total_labels = 0\n",
    "    correct_labels = 0\n",
    "    with torch.no_grad():\n",
    "        for images, labels in val_loader:\n",
    "            images = Variable(images.float())\n",
    "            images, labels = images.to(device), labels.to(device)\n",
    "            outputs = model(images)\n",
    "            loss = loss_fn(outputs,labels)\n",
    "            total_loss += loss.item()\n",
    "            _, predicted = torch.max(outputs.data, 1)\n",
    "            total_labels += labels.size(0)\n",
    "            correct_labels += (predicted == labels).sum().item()\n",
    "    \n",
    "    \n",
    "    return images, labels, outputs, total_loss/len(val_loader.dataset), correct_labels, total_labels\n",
    "\n",
    "#Test Function\n",
    "def test(model, test_loader):\n",
    "    model.eval()\n",
    "    total_labels = 0\n",
    "    correct_labels = 0\n",
    "    with torch.no_grad():\n",
    "        for images, labels in test_loader:\n",
    "            images = Variable(images.float())\n",
    "            images, labels = images.to(device), labels.to(device)\n",
    "            outputs = model(images)\n",
    "            _, predicted = torch.max(outputs.data, 1)\n",
    "            total_labels += labels.size(0)\n",
    "            correct_labels += (predicted == labels).sum().item()\n",
    "    \n",
    "    accuracy = 100 *  correct_labels / total_labels\n",
    "\n",
    "    return images, labels, outputs, accuracy\n",
    "\n",
    "        "
   ]
  },
  {
   "cell_type": "code",
   "execution_count": 38,
   "id": "1de69b03",
   "metadata": {},
   "outputs": [
    {
     "name": "stdout",
     "output_type": "stream",
     "text": [
      "CNN(\n",
      "  (layer1): Sequential(\n",
      "    (0): Conv2d(3, 16, kernel_size=(3, 3), stride=(1, 1), padding=(1, 1))\n",
      "    (1): BatchNorm2d(16, eps=1e-05, momentum=0.1, affine=True, track_running_stats=True)\n",
      "    (2): ReLU()\n",
      "    (3): MaxPool2d(kernel_size=2, stride=2, padding=0, dilation=1, ceil_mode=False)\n",
      "  )\n",
      "  (layer2): Sequential(\n",
      "    (0): Conv2d(16, 32, kernel_size=(3, 3), stride=(1, 1), padding=(1, 1))\n",
      "    (1): BatchNorm2d(32, eps=1e-05, momentum=0.1, affine=True, track_running_stats=True)\n",
      "    (2): ReLU()\n",
      "    (3): MaxPool2d(kernel_size=2, stride=2, padding=0, dilation=1, ceil_mode=False)\n",
      "  )\n",
      "  (layer3): Sequential(\n",
      "    (0): Conv2d(32, 32, kernel_size=(3, 3), stride=(1, 1), padding=(1, 1))\n",
      "    (1): BatchNorm2d(32, eps=1e-05, momentum=0.1, affine=True, track_running_stats=True)\n",
      "    (2): ReLU()\n",
      "    (3): MaxPool2d(kernel_size=2, stride=2, padding=0, dilation=1, ceil_mode=False)\n",
      "  )\n",
      "  (drop_out): Dropout(p=0.5, inplace=False)\n",
      "  (fc1): Linear(in_features=512, out_features=32, bias=True)\n",
      "  (fc2): Linear(in_features=32, out_features=13, bias=True)\n",
      ")\n"
     ]
    }
   ],
   "source": [
    "# Declaring the loss function and optimizer\n",
    "model = CNN()\n",
    "model = model.to(device)\n",
    "print(model)\n",
    "\n",
    "#criterion = # YOUR CODE HERE : Explore and declare loss function\n",
    "# loss_fn = torch.nn.BCELoss()\n",
    "loss_fn = torch.nn.CrossEntropyLoss().to(device)\n",
    "\n",
    "#optimizer = # YOUR CODE HERE : Explore on optimizer and define with the learning rate\n",
    "# optimizer = optim.SGD(model.parameters(), lr=0.01, momentum=0.5)\n",
    "\n",
    "optimizer = torch.optim.Adam(model.parameters(), lr=learning_rate)"
   ]
  },
  {
   "cell_type": "code",
   "execution_count": 39,
   "id": "f3c8a5e4",
   "metadata": {},
   "outputs": [],
   "source": [
    "# Testing Evaluation for CNN model\n",
    "\n",
    "val_set = datasets.ImageFolder('Test',transform = transformations)\n",
    "\n",
    "# YOUR CODE HERE for the DataLoader\n",
    "val_loader = torch.utils.data.DataLoader(val_set, batch_size=batch_size, shuffle=True, worker_init_fn=seed_worker, generator=g)"
   ]
  },
  {
   "cell_type": "code",
   "execution_count": 40,
   "id": "374d71cc",
   "metadata": {},
   "outputs": [
    {
     "name": "stdout",
     "output_type": "stream",
     "text": [
      "epoch [1/6], loss train:0.007976 loss validation:0.003771, train accuracy:66.617647, validation accuracy:83.832442\n",
      "epoch [2/6], loss train:0.002095 loss validation:0.001374, train accuracy:91.758824, validation accuracy:94.955437\n",
      "epoch [3/6], loss train:0.001066 loss validation:0.001008, train accuracy:95.935294, validation accuracy:96.417112\n",
      "epoch [4/6], loss train:0.000720 loss validation:0.000814, train accuracy:97.235294, validation accuracy:96.987522\n",
      "epoch [5/6], loss train:0.000528 loss validation:0.000716, train accuracy:98.023529, validation accuracy:96.844920\n",
      "epoch [6/6], loss train:0.000420 loss validation:0.000615, train accuracy:98.223529, validation accuracy:97.397504\n"
     ]
    }
   ],
   "source": [
    "#Training\n",
    "tr_losses = [] \n",
    "val_losses = []\n",
    "\n",
    "for epoch in range(1,num_epochs +1):\n",
    "    # train network for 1 epoch\n",
    "    tr_data, tr_target, tr_output, tr_loss, tr_correct_labels, tr_total_labels = train(model,train_loader, loss_fn, optimizer)\n",
    "    # Validate the network on validation dataset\n",
    "    val_data, val_target, val_output, val_loss, val_correct_labels, val_total_labels = validation(model,val_loader, loss_fn)\n",
    "\n",
    "    tr_accuracy = 100 *  tr_correct_labels / tr_total_labels\n",
    "    val_accuracy = 100 * val_correct_labels / val_total_labels\n",
    "\n",
    "    #log\n",
    "    print('epoch [{}/{}], loss train:{:.6f} loss validation:{:.6f}, train accuracy:{:.6f}, validation accuracy:{:.6f}'\n",
    "            .format(epoch, num_epochs, tr_loss, val_loss, tr_accuracy, val_accuracy))\n",
    "\n",
    "    #Save Loss values\n",
    "    tr_losses.append(tr_loss)\n",
    "    val_losses.append(val_loss)\n"
   ]
  },
  {
   "cell_type": "code",
   "execution_count": 41,
   "id": "a16c91ce",
   "metadata": {},
   "outputs": [
    {
     "data": {
      "text/plain": [
       "<matplotlib.legend.Legend at 0x215aed13130>"
      ]
     },
     "execution_count": 41,
     "metadata": {},
     "output_type": "execute_result"
    },
    {
     "data": {
      "image/png": "[encoded data removed]",
      "text/plain": [
       "<Figure size 432x288 with 1 Axes>"
      ]
     },
     "metadata": {
      "needs_background": "light"
     },
     "output_type": "display_data"
    }
   ],
   "source": [
    "plt.figure()\n",
    "plt.plot(tr_losses, label='Train Loss')\n",
    "plt.plot(val_losses, label='Validation Loss')\n",
    "plt.legend()\n"
   ]
  },
  {
   "cell_type": "code",
   "execution_count": 42,
   "id": "3dfd3ae7",
   "metadata": {},
   "outputs": [],
   "source": [
    "torch.save(model, 'conv_net_model.pth')"
   ]
  },
  {
   "cell_type": "code",
   "execution_count": 43,
   "id": "09d04ba9",
   "metadata": {},
   "outputs": [
    {
     "data": {
      "text/plain": [
       "CNN(\n",
       "  (layer1): Sequential(\n",
       "    (0): Conv2d(3, 16, kernel_size=(3, 3), stride=(1, 1), padding=(1, 1))\n",
       "    (1): BatchNorm2d(16, eps=1e-05, momentum=0.1, affine=True, track_running_stats=True)\n",
       "    (2): ReLU()\n",
       "    (3): MaxPool2d(kernel_size=2, stride=2, padding=0, dilation=1, ceil_mode=False)\n",
       "  )\n",
       "  (layer2): Sequential(\n",
       "    (0): Conv2d(16, 32, kernel_size=(3, 3), stride=(1, 1), padding=(1, 1))\n",
       "    (1): BatchNorm2d(32, eps=1e-05, momentum=0.1, affine=True, track_running_stats=True)\n",
       "    (2): ReLU()\n",
       "    (3): MaxPool2d(kernel_size=2, stride=2, padding=0, dilation=1, ceil_mode=False)\n",
       "  )\n",
       "  (layer3): Sequential(\n",
       "    (0): Conv2d(32, 32, kernel_size=(3, 3), stride=(1, 1), padding=(1, 1))\n",
       "    (1): BatchNorm2d(32, eps=1e-05, momentum=0.1, affine=True, track_running_stats=True)\n",
       "    (2): ReLU()\n",
       "    (3): MaxPool2d(kernel_size=2, stride=2, padding=0, dilation=1, ceil_mode=False)\n",
       "  )\n",
       "  (drop_out): Dropout(p=0.5, inplace=False)\n",
       "  (fc1): Linear(in_features=512, out_features=32, bias=True)\n",
       "  (fc2): Linear(in_features=32, out_features=13, bias=True)\n",
       ")"
      ]
     },
     "execution_count": 43,
     "metadata": {},
     "output_type": "execute_result"
    }
   ],
   "source": [
    "model"
   ]
  },
  {
   "cell_type": "code",
   "execution_count": 19,
   "id": "c99d5eab",
   "metadata": {},
   "outputs": [
    {
     "data": {
      "text/plain": [
       "CNN(\n",
       "  (layer1): Sequential(\n",
       "    (0): Conv2d(3, 16, kernel_size=(3, 3), stride=(1, 1), padding=(1, 1))\n",
       "    (1): BatchNorm2d(16, eps=1e-05, momentum=0.1, affine=True, track_running_stats=True)\n",
       "    (2): ReLU()\n",
       "    (3): MaxPool2d(kernel_size=2, stride=2, padding=0, dilation=1, ceil_mode=False)\n",
       "  )\n",
       "  (layer2): Sequential(\n",
       "    (0): Conv2d(16, 32, kernel_size=(3, 3), stride=(1, 1), padding=(1, 1))\n",
       "    (1): BatchNorm2d(32, eps=1e-05, momentum=0.1, affine=True, track_running_stats=True)\n",
       "    (2): ReLU()\n",
       "    (3): MaxPool2d(kernel_size=2, stride=2, padding=0, dilation=1, ceil_mode=False)\n",
       "  )\n",
       "  (layer3): Sequential(\n",
       "    (0): Conv2d(32, 32, kernel_size=(3, 3), stride=(1, 1), padding=(1, 1))\n",
       "    (1): BatchNorm2d(32, eps=1e-05, momentum=0.1, affine=True, track_running_stats=True)\n",
       "    (2): ReLU()\n",
       "    (3): MaxPool2d(kernel_size=2, stride=2, padding=0, dilation=1, ceil_mode=False)\n",
       "  )\n",
       "  (drop_out): Dropout(p=0.5, inplace=False)\n",
       "  (fc1): Linear(in_features=512, out_features=32, bias=True)\n",
       "  (fc2): Linear(in_features=32, out_features=13, bias=True)\n",
       ")"
      ]
     },
     "execution_count": 19,
     "metadata": {},
     "output_type": "execute_result"
    }
   ],
   "source": [
    "# Load the model\n",
    "loaded_model = torch.load('conv_net_model.pth',map_location=device)\n",
    "loaded_model\n"
   ]
  },
  {
   "cell_type": "code",
   "execution_count": 20,
   "id": "1ca486eb",
   "metadata": {},
   "outputs": [
    {
     "data": {
      "text/plain": [
       "97.95008912655972"
      ]
     },
     "execution_count": 20,
     "metadata": {},
     "output_type": "execute_result"
    }
   ],
   "source": [
    "val_data, val_target, val_output, accuracy = test(loaded_model,val_loader)\n",
    "\n",
    "    \n",
    "accuracy"
   ]
  },
  {
   "cell_type": "code",
   "execution_count": 21,
   "id": "3206565f",
   "metadata": {},
   "outputs": [
    {
     "name": "stdout",
     "output_type": "stream",
     "text": [
      "97.950089\n"
     ]
    }
   ],
   "source": [
    "print('{:.6f}'.format(accuracy))"
   ]
  },
  {
   "cell_type": "code",
   "execution_count": 22,
   "id": "716df31a",
   "metadata": {},
   "outputs": [
    {
     "name": "stdout",
     "output_type": "stream",
     "text": [
      "Test Accuracy of the model on test images: 97.950089 %\n"
     ]
    }
   ],
   "source": [
    "# YOUR CODE HERE for calculating the accuracy\n",
    "loaded_model.eval()\n",
    "\n",
    "loaded_model = model.eval()\n",
    "\n",
    "correct = 0\n",
    "total = 0\n",
    "\n",
    "#Initalize empty tensor for storing predictions\n",
    "predicted_np = torch.empty(0)\n",
    "\n",
    "#Initialize empty tensor for storing labels from test data\n",
    "test_labels_np = torch.empty(0)\n",
    "\n",
    "#Transfer empty tensor to \"device\" (to CUDA if necesaary)\n",
    "predicted_np , test_labels_np = predicted_np.to(device), test_labels_np.to(device)\n",
    "\n",
    "for images, labels in val_loader:\n",
    "    images = Variable(images.float())\n",
    "    images, labels = images.to(device), labels.to(device)\n",
    "    outputs = loaded_model(images)\n",
    "    _, predicted = torch.max(outputs.data, 1)\n",
    "    predicted_np = torch.concat((predicted_np,predicted))\n",
    "    test_labels_np = torch.concat((test_labels_np,labels))\n",
    "    total += labels.size(0)\n",
    "    correct += (predicted == labels).sum()\n",
    "\n",
    "#Transfer tensors with label, to cpu and convert to numpy arrays for further processings.\n",
    "predicted_np = predicted_np.cpu().numpy()\n",
    "test_labels_np = test_labels_np.cpu().detach().numpy()\n",
    "print('Test Accuracy of the model on test images: %.6f %%' % (100 * correct / total))"
   ]
  },
  {
   "cell_type": "code",
   "execution_count": 23,
   "id": "27880045",
   "metadata": {},
   "outputs": [
    {
     "data": {
      "image/png": "[encoded data removed]",
      "text/plain": [
       "<Figure size 1440x1080 with 2 Axes>"
      ]
     },
     "metadata": {
      "needs_background": "light"
     },
     "output_type": "display_data"
    }
   ],
   "source": [
    "conf_matrix(predicted_np,test_labels_np)"
   ]
  },
  {
   "cell_type": "markdown",
   "id": "112c3d79",
   "metadata": {},
   "source": [
    "100 EPOCH"
   ]
  },
  {
   "cell_type": "code",
   "execution_count": 24,
   "id": "0bb623dc",
   "metadata": {},
   "outputs": [
    {
     "name": "stdout",
     "output_type": "stream",
     "text": [
      "CNN(\n",
      "  (layer1): Sequential(\n",
      "    (0): Conv2d(3, 16, kernel_size=(3, 3), stride=(1, 1), padding=(1, 1))\n",
      "    (1): BatchNorm2d(16, eps=1e-05, momentum=0.1, affine=True, track_running_stats=True)\n",
      "    (2): ReLU()\n",
      "    (3): MaxPool2d(kernel_size=2, stride=2, padding=0, dilation=1, ceil_mode=False)\n",
      "  )\n",
      "  (layer2): Sequential(\n",
      "    (0): Conv2d(16, 32, kernel_size=(3, 3), stride=(1, 1), padding=(1, 1))\n",
      "    (1): BatchNorm2d(32, eps=1e-05, momentum=0.1, affine=True, track_running_stats=True)\n",
      "    (2): ReLU()\n",
      "    (3): MaxPool2d(kernel_size=2, stride=2, padding=0, dilation=1, ceil_mode=False)\n",
      "  )\n",
      "  (layer3): Sequential(\n",
      "    (0): Conv2d(32, 32, kernel_size=(3, 3), stride=(1, 1), padding=(1, 1))\n",
      "    (1): BatchNorm2d(32, eps=1e-05, momentum=0.1, affine=True, track_running_stats=True)\n",
      "    (2): ReLU()\n",
      "    (3): MaxPool2d(kernel_size=2, stride=2, padding=0, dilation=1, ceil_mode=False)\n",
      "  )\n",
      "  (drop_out): Dropout(p=0.5, inplace=False)\n",
      "  (fc1): Linear(in_features=512, out_features=32, bias=True)\n",
      "  (fc2): Linear(in_features=32, out_features=13, bias=True)\n",
      ")\n"
     ]
    }
   ],
   "source": [
    "# Declaring the loss function and optimizer\n",
    "\n",
    "model = CNN()\n",
    "model = model.to(device)\n",
    "print(model)\n",
    "\n",
    "#criterion = # YOUR CODE HERE : Explore and declare loss function\n",
    "# loss_fn = torch.nn.BCELoss()\n",
    "loss_fn = torch.nn.CrossEntropyLoss()\n",
    "\n",
    "#optimizer = # YOUR CODE HERE : Explore on optimizer and define with the learning rate\n",
    "# optimizer = optim.SGD(model.parameters(), lr=0.01, momentum=0.5)\n",
    "learning_rate = 0.001\n",
    "optimizer = torch.optim.Adam(model.parameters(), lr=learning_rate)"
   ]
  },
  {
   "cell_type": "code",
   "execution_count": 25,
   "id": "ecf23009",
   "metadata": {},
   "outputs": [],
   "source": [
    "# %%time\n",
    "# epochs = 100\n",
    "# lossv, accv = [], []\n",
    "# for epoch in range(1, epochs+1):\n",
    "#     train(epoch)\n",
    "#     # test(lossv, accv)"
   ]
  },
  {
   "cell_type": "code",
   "execution_count": 26,
   "id": "54d9338a",
   "metadata": {},
   "outputs": [],
   "source": [
    "# # YOUR CODE HERE for calculating the accuracy\n",
    "# loaded_model.eval()\n",
    "\n",
    "# loaded_model = model.eval()\n",
    "\n",
    "# correct = 0\n",
    "# total = 0\n",
    "\n",
    "# #Initalize empty tensor for storing predictions\n",
    "# predicted_np = torch.empty(0)\n",
    "\n",
    "# #Initialize empty tensor for storing labels from test data\n",
    "# test_labels_np = torch.empty(0)\n",
    "\n",
    "# #Transfer empty tensor to \"device\" (to CUDA if necesaary)\n",
    "# predicted_np , test_labels_np = predicted_np.to(device), test_labels_np.to(device)\n",
    "\n",
    "# for images, labels in test_loader:\n",
    "#     images = Variable(images.float())\n",
    "#     images, labels = images.to(device), labels.to(device)\n",
    "#     outputs = loaded_model(images)\n",
    "#     _, predicted = torch.max(outputs.data, 1)\n",
    "#     predicted_np = torch.concat((predicted_np,predicted))\n",
    "#     test_labels_np = torch.concat((test_labels_np,labels))\n",
    "#     total += labels.size(0)\n",
    "#     correct += (predicted == labels).sum()\n",
    "\n",
    "# #Transfer tensors with label, to cpu and convert to numpy arrays for further processings.\n",
    "# predicted_np = predicted_np.cpu().numpy()\n",
    "# test_labels_np = test_labels_np.cpu().detach().numpy()\n",
    "# print('Test Accuracy of the model on test images: %.4f %%' % (100 * correct / total))"
   ]
  },
  {
   "cell_type": "code",
   "execution_count": 27,
   "id": "d87d8be4",
   "metadata": {},
   "outputs": [
    {
     "name": "stdout",
     "output_type": "stream",
     "text": [
      "Is CUDA supported by this system? True\n",
      "CUDA version: 11.3\n",
      "ID of current CUDA device: 0\n",
      "Name of current CUDA device:GeForce GTX 1050 Ti\n"
     ]
    }
   ],
   "source": [
    "import torch\n",
    "  \n",
    "print(f\"Is CUDA supported by this system? {torch.cuda.is_available()}\")\n",
    "print(f\"CUDA version: {torch.version.cuda}\")\n",
    "  \n",
    "# Storing ID of current CUDA device\n",
    "cuda_id = torch.cuda.current_device()\n",
    "print(f\"ID of current CUDA device: {torch.cuda.current_device()}\")\n",
    "        \n",
    "print(f\"Name of current CUDA device:{torch.cuda.get_device_name(cuda_id)}\")"
   ]
  },
  {
   "cell_type": "code",
   "execution_count": 28,
   "id": "4caf46e3",
   "metadata": {},
   "outputs": [
    {
     "data": {
      "text/plain": [
       "8200"
      ]
     },
     "execution_count": 28,
     "metadata": {},
     "output_type": "execute_result"
    }
   ],
   "source": [
    "torch.backends.cudnn.version()"
   ]
  }
 ],
 "metadata": {
  "interpreter": {
   "hash": "398b1f7ed72a7068b3f6e41c8d0b7c46f955388764fdd26a380830a749e28b27"
  },
  "kernelspec": {
   "display_name": "Python 3.8.10 64-bit",
   "language": "python",
   "name": "python3"
  },
  "language_info": {
   "codemirror_mode": {
    "name": "ipython",
    "version": 3
   },
   "file_extension": ".py",
   "mimetype": "text/x-python",
   "name": "python",
   "nbconvert_exporter": "python",
   "pygments_lexer": "ipython3",
   "version": "3.8.10"
  }
 },
 "nbformat": 4,
 "nbformat_minor": 5
}
