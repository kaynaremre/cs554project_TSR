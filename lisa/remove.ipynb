{
 "cells": [
  {
   "cell_type": "code",
   "execution_count": 5,
   "metadata": {},
   "outputs": [],
   "source": [
    "import pandas as pd\n",
    "\n",
    "df = pd.read_csv(\"annotations_FasterRCNN.csv\")\n",
    "\n",
    "df.drop(df[(df['filename'] ==\"db_lisa_tiny/sample_831.png\")].index, inplace=True)\n",
    "df.drop(df[(df['filename'] ==\"db_lisa_tiny/sample_105.png\")].index, inplace=True)\n",
    "df.drop(df[(df['filename'] ==\"db_lisa_tiny/sample_090.png\")].index, inplace=True)\n",
    "df.drop(df[(df['filename'] ==\"db_lisa_tiny/sample_845.png\")].index, inplace=True)\n",
    "\n",
    "\n",
    "df\n",
    "\n",
    "df.to_csv(\"annotations_FasterRCNN_drop.csv\", index=False)"
   ]
  }
 ],
 "metadata": {
  "interpreter": {
   "hash": "31f2aee4e71d21fbe5cf8b01ff0e069b9275f58929596ceb00d14d90e3e16cd6"
  },
  "kernelspec": {
   "display_name": "Python 3.6.9 64-bit",
   "language": "python",
   "name": "python3"
  },
  "language_info": {
   "codemirror_mode": {
    "name": "ipython",
    "version": 3
   },
   "file_extension": ".py",
   "mimetype": "text/x-python",
   "name": "python",
   "nbconvert_exporter": "python",
   "pygments_lexer": "ipython3",
   "version": "3.6.9"
  },
  "orig_nbformat": 4
 },
 "nbformat": 4,
 "nbformat_minor": 2
}
