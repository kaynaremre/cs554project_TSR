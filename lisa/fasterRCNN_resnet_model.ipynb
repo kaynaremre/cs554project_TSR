{
 "cells": [
  {
   "cell_type": "code",
   "execution_count": 5,
   "metadata": {},
   "outputs": [],
   "source": [
    "from ipynb.fs.full.fasterRCNN_resnet_preprocess import transformsXY, mask_to_bb\n",
    "#library imports\n",
    "import os\n",
    "import random\n",
    "import math\n",
    "from datetime import datetime\n",
    "from collections import Counter\n",
    "import pandas as pd\n",
    "import numpy as np\n",
    "\n",
    "import cv2\n",
    "from PIL import Image\n",
    "from pathlib import Path\n",
    "import matplotlib.pyplot as plt\n",
    "from matplotlib.patches import Rectangle\n",
    "from sklearn.model_selection import train_test_split\n",
    "import xml.etree.ElementTree as ET\n",
    "\n",
    "import torch\n",
    "from torch.utils.data import Dataset, DataLoader\n",
    "import torch.optim as optim\n",
    "import torch.nn as nn\n",
    "import torch.nn.functional as F\n",
    "from torchvision import models\n",
    "#from skimage import io"
   ]
  },
  {
   "cell_type": "code",
   "execution_count": 4,
   "metadata": {},
   "outputs": [],
   "source": [
    "annotations_file = \"annotations_704.csv\""
   ]
  },
  {
   "cell_type": "code",
   "execution_count": 6,
   "metadata": {},
   "outputs": [
    {
     "data": {
      "text/html": [
       "<div>\n",
       "<style scoped>\n",
       "    .dataframe tbody tr th:only-of-type {\n",
       "        vertical-align: middle;\n",
       "    }\n",
       "\n",
       "    .dataframe tbody tr th {\n",
       "        vertical-align: top;\n",
       "    }\n",
       "\n",
       "    .dataframe thead th {\n",
       "        text-align: right;\n",
       "    }\n",
       "</style>\n",
       "<table border=\"1\" class=\"dataframe\">\n",
       "  <thead>\n",
       "    <tr style=\"text-align: right;\">\n",
       "      <th></th>\n",
       "      <th>filename</th>\n",
       "      <th>x1</th>\n",
       "      <th>y1</th>\n",
       "      <th>x2</th>\n",
       "      <th>y2</th>\n",
       "      <th>class</th>\n",
       "      <th>Train/Test</th>\n",
       "      <th>width</th>\n",
       "      <th>height</th>\n",
       "      <th>new_bb</th>\n",
       "      <th>class_idx</th>\n",
       "    </tr>\n",
       "  </thead>\n",
       "  <tbody>\n",
       "    <tr>\n",
       "      <th>0</th>\n",
       "      <td>db_lisa_tiny/sample_001.png</td>\n",
       "      <td>190</td>\n",
       "      <td>40</td>\n",
       "      <td>211</td>\n",
       "      <td>63</td>\n",
       "      <td>stop</td>\n",
       "      <td>Train</td>\n",
       "      <td>704</td>\n",
       "      <td>480</td>\n",
       "      <td>[ 40 190  63 211]</td>\n",
       "      <td>0</td>\n",
       "    </tr>\n",
       "    <tr>\n",
       "      <th>1</th>\n",
       "      <td>db_lisa_tiny/sample_002.png</td>\n",
       "      <td>4</td>\n",
       "      <td>246</td>\n",
       "      <td>43</td>\n",
       "      <td>283</td>\n",
       "      <td>stop</td>\n",
       "      <td>Train</td>\n",
       "      <td>704</td>\n",
       "      <td>480</td>\n",
       "      <td>[246   4 283  43]</td>\n",
       "      <td>0</td>\n",
       "    </tr>\n",
       "    <tr>\n",
       "      <th>2</th>\n",
       "      <td>db_lisa_tiny/sample_003.png</td>\n",
       "      <td>389</td>\n",
       "      <td>286</td>\n",
       "      <td>418</td>\n",
       "      <td>314</td>\n",
       "      <td>stop</td>\n",
       "      <td>Train</td>\n",
       "      <td>704</td>\n",
       "      <td>480</td>\n",
       "      <td>[286 389 314 418]</td>\n",
       "      <td>0</td>\n",
       "    </tr>\n",
       "    <tr>\n",
       "      <th>3</th>\n",
       "      <td>db_lisa_tiny/sample_006.png</td>\n",
       "      <td>476</td>\n",
       "      <td>137</td>\n",
       "      <td>514</td>\n",
       "      <td>174</td>\n",
       "      <td>stop</td>\n",
       "      <td>Train</td>\n",
       "      <td>704</td>\n",
       "      <td>480</td>\n",
       "      <td>[137 476 174 514]</td>\n",
       "      <td>0</td>\n",
       "    </tr>\n",
       "    <tr>\n",
       "      <th>4</th>\n",
       "      <td>db_lisa_tiny/sample_007.png</td>\n",
       "      <td>30</td>\n",
       "      <td>26</td>\n",
       "      <td>54</td>\n",
       "      <td>50</td>\n",
       "      <td>stop</td>\n",
       "      <td>Train</td>\n",
       "      <td>704</td>\n",
       "      <td>480</td>\n",
       "      <td>[26 30 50 54]</td>\n",
       "      <td>0</td>\n",
       "    </tr>\n",
       "  </tbody>\n",
       "</table>\n",
       "</div>"
      ],
      "text/plain": [
       "                      filename   x1   y1   x2   y2 class Train/Test  width  \\\n",
       "0  db_lisa_tiny/sample_001.png  190   40  211   63  stop      Train    704   \n",
       "1  db_lisa_tiny/sample_002.png    4  246   43  283  stop      Train    704   \n",
       "2  db_lisa_tiny/sample_003.png  389  286  418  314  stop      Train    704   \n",
       "3  db_lisa_tiny/sample_006.png  476  137  514  174  stop      Train    704   \n",
       "4  db_lisa_tiny/sample_007.png   30   26   54   50  stop      Train    704   \n",
       "\n",
       "   height             new_bb  class_idx  \n",
       "0     480  [ 40 190  63 211]          0  \n",
       "1     480  [246   4 283  43]          0  \n",
       "2     480  [286 389 314 418]          0  \n",
       "3     480  [137 476 174 514]          0  \n",
       "4     480      [26 30 50 54]          0  "
      ]
     },
     "execution_count": 6,
     "metadata": {},
     "output_type": "execute_result"
    }
   ],
   "source": [
    "df_train = pd.read_csv(annotations_file)\n",
    "df_train.head()"
   ]
  },
  {
   "cell_type": "code",
   "execution_count": 9,
   "metadata": {},
   "outputs": [
    {
     "data": {
      "text/plain": [
       "str"
      ]
     },
     "execution_count": 9,
     "metadata": {},
     "output_type": "execute_result"
    }
   ],
   "source": [
    "type(df_train[\"new_bb\"][0])"
   ]
  },
  {
   "cell_type": "code",
   "execution_count": 10,
   "metadata": {},
   "outputs": [
    {
     "ename": "TypeError",
     "evalue": "'str' object cannot be interpreted as an integer",
     "output_type": "error",
     "traceback": [
      "\u001b[0;31m---------------------------------------------------------------------------\u001b[0m",
      "\u001b[0;31mTypeError\u001b[0m                                 Traceback (most recent call last)",
      "\u001b[0;32m<ipython-input-10-0bba7784791b>\u001b[0m in \u001b[0;36m<module>\u001b[0;34m\u001b[0m\n\u001b[0;32m----> 1\u001b[0;31m \u001b[0ma\u001b[0m \u001b[0;34m=\u001b[0m \u001b[0mnp\u001b[0m\u001b[0;34m.\u001b[0m\u001b[0mndarray\u001b[0m\u001b[0;34m(\u001b[0m\u001b[0mdf_train\u001b[0m\u001b[0;34m[\u001b[0m\u001b[0;34m\"new_bb\"\u001b[0m\u001b[0;34m]\u001b[0m\u001b[0;34m[\u001b[0m\u001b[0;36m0\u001b[0m\u001b[0;34m]\u001b[0m\u001b[0;34m)\u001b[0m\u001b[0;34m\u001b[0m\u001b[0;34m\u001b[0m\u001b[0m\n\u001b[0m\u001b[1;32m      2\u001b[0m \u001b[0mtype\u001b[0m\u001b[0;34m(\u001b[0m\u001b[0ma\u001b[0m\u001b[0;34m)\u001b[0m\u001b[0;34m\u001b[0m\u001b[0;34m\u001b[0m\u001b[0m\n",
      "\u001b[0;31mTypeError\u001b[0m: 'str' object cannot be interpreted as an integer"
     ]
    }
   ],
   "source": [
    "a = np.ndarray(df_train[\"new_bb\"][0])\n",
    "type(a)"
   ]
  }
 ],
 "metadata": {
  "interpreter": {
   "hash": "31f2aee4e71d21fbe5cf8b01ff0e069b9275f58929596ceb00d14d90e3e16cd6"
  },
  "kernelspec": {
   "display_name": "Python 3.6.9 64-bit",
   "language": "python",
   "name": "python3"
  },
  "language_info": {
   "codemirror_mode": {
    "name": "ipython",
    "version": 3
   },
   "file_extension": ".py",
   "mimetype": "text/x-python",
   "name": "python",
   "nbconvert_exporter": "python",
   "pygments_lexer": "ipython3",
   "version": "3.6.9"
  },
  "orig_nbformat": 4
 },
 "nbformat": 4,
 "nbformat_minor": 2
}
